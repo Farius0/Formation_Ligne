{
 "cells": [
  {
   "cell_type": "markdown",
   "id": "2a84cbe8-2a07-4e55-9d42-4a06c9498155",
   "metadata": {},
   "source": [
    "# **Base Python Udemy ☺☺☺☺☺**"
   ]
  },
  {
   "cell_type": "markdown",
   "id": "5e29d5dd-53ae-4d52-91cd-2b0d65611e0e",
   "metadata": {
    "tags": []
   },
   "source": [
    "## **Print and Input**"
   ]
  },
  {
   "cell_type": "code",
   "execution_count": 1,
   "id": "fdebe8a1-febb-4a10-8414-b4aba950b18b",
   "metadata": {
    "tags": []
   },
   "outputs": [
    {
     "name": "stdout",
     "output_type": "stream",
     "text": [
      "Toto\n",
      "Je m'appelle nom. My name is Toto\n",
      "Hello, John\n"
     ]
    }
   ],
   "source": [
    "nom = \"Toto\"\n",
    "print(nom)\n",
    "print(\"Je m'appelle \" + \"nom.\" + f\" My name is {nom}\")\n",
    "print(\"Hello, John\")"
   ]
  },
  {
   "cell_type": "code",
   "execution_count": 2,
   "id": "99034646-f486-4927-9497-418cfd8f7deb",
   "metadata": {
    "tags": []
   },
   "outputs": [
    {
     "name": "stdout",
     "output_type": "stream",
     "text": [
      "Prénom\n",
      "Toto\n"
     ]
    }
   ],
   "source": [
    "print(\"Prénom\\n\" + nom)"
   ]
  },
  {
   "cell_type": "code",
   "execution_count": null,
   "id": "f763a734-b06b-4203-9f0f-26064b53d7b1",
   "metadata": {
    "tags": []
   },
   "outputs": [
    {
     "name": "stdout",
     "output_type": "stream",
     "text": [
      "Vous vous appellez Farius\n"
     ]
    }
   ],
   "source": [
    "reponse = input(\"Quel est ton nom ?\")\n",
    "print(f\"Vous vous appellez {reponse}\")"
   ]
  },
  {
   "cell_type": "code",
   "execution_count": null,
   "id": "fd13c7bf-4997-485c-bd41-a6491b25f95f",
   "metadata": {
    "tags": []
   },
   "outputs": [
    {
     "name": "stdout",
     "output_type": "stream",
     "text": [
      "Quel est ton nom ? Toto\n"
     ]
    },
    {
     "name": "stdout",
     "output_type": "stream",
     "text": [
      "Vous vous appellez Toto\n"
     ]
    },
    {
     "name": "stdout",
     "output_type": "stream",
     "text": [
      "Quel est votre âge ? 6\n"
     ]
    },
    {
     "name": "stdout",
     "output_type": "stream",
     "text": [
      "Vous vous appellez Toto et vous aurez prochainement 7 ans.\n"
     ]
    }
   ],
   "source": [
    "nom = input(\"Quel est ton nom ?\")\n",
    "\n",
    "print(f\"Vous vous appellez {nom}\")\n",
    "\n",
    "age = input(\"Quel est votre âge ?\")\n",
    "\n",
    "try: age_prochain = int(age) + 1\n",
    "    \n",
    "except : print(\"Erreur, vous devez rentrer des chiffres\")\n",
    "\n",
    "else : print(f\"Vous vous appellez {nom} et vous aurez prochainement {age_prochain} ans.\")\n",
    "\n",
    "# print(f\"Vous vous appellez {nom} et vous avez {age} ans.\")"
   ]
  },
  {
   "cell_type": "code",
   "execution_count": null,
   "id": "4361b872-4db2-4130-af77-a5cad3a9150a",
   "metadata": {
    "tags": []
   },
   "outputs": [
    {
     "name": "stdout",
     "output_type": "stream",
     "text": [
      "Mot de passe incorrect, réessayer hh\n",
      "Mot de passe incorrect, réessayer hh\n",
      "Mot de passe incorrect, réessayer Toto\n"
     ]
    }
   ],
   "source": [
    "\"\"\" Insérer un mot de passe \"\"\"\n",
    "\n",
    "mdp = \"\"\n",
    "while mdp != \"Toto\":\n",
    "    mdp = input(\"Mot de passe incorrect, réessayer\")"
   ]
  },
  {
   "cell_type": "code",
   "execution_count": null,
   "id": "403f0764-e5cc-4292-849e-66bbaf8717d7",
   "metadata": {},
   "outputs": [],
   "source": [
    "def ask_name():\n",
    "    \n",
    "    \"\"\" Insérer un nom \"\"\"\n",
    "    \n",
    "    nom = \"\"\n",
    "    \n",
    "    while nom == \"\": nom = input(\"Quel est ton nom ?\")\n",
    "    \n",
    "    return nom\n",
    "    \n",
    "def ask_age(nom):\n",
    "    \n",
    "    \"\"\" Insérer un âge \"\"\"\n",
    "    \n",
    "    age = 0\n",
    "\n",
    "    while age == 0:\n",
    "\n",
    "        age_ = input(f\"{nom}, quel est votre âge ?\")\n",
    "\n",
    "        try: age = int(age_)\n",
    "\n",
    "        except : print(\"Erreur, vous devez rentrer des chiffres\")\n",
    "\n",
    "        # else: print(f\"Vous vous appellez {nom} et vous aurez prochainement {str(age + 1)} ans.\")\n",
    "        \n",
    "    return age\n",
    "\n",
    "def inform_pers(nom, age, taille = 0):\n",
    "    \n",
    "    \"\"\" Affiche les informations d'une personne. \"\"\"\n",
    "        \n",
    "    print(f\"Vous vous appellez {nom}. Vous avez {age} ans.\\nDans un an, vous aurez {str(age + 1)} ans.\")\n",
    "    # print(\"Vous vous appellez %s. Vous avez %s ans.\\nDans un an, vous aurez %s ans.\" %(nom, age, age + 1))\n",
    "\n",
    "    \n",
    "    if age < 10 :print(\"Vous êtes un enfant.\")\n",
    "    elif 10 <= age < 17 :print(\"Vous êtes mineur.\")\n",
    "    elif age == 17 :print(\"Vous êtes presque majeur.\")\n",
    "    elif age == 18 :print(\"Tout juste majeur. Félicitations.\")\n",
    "    elif 18 <= age < 60 :print(\"Vous êtes majeur.\")\n",
    "    else : print(\"Vous êtes un sénior.\")\n",
    "    \n",
    "    if not taille == 0 : print(f\"Votre taille est {taille}\")"
   ]
  },
  {
   "cell_type": "code",
   "execution_count": null,
   "id": "46851685-8107-4460-8799-d7a1186dea2f",
   "metadata": {
    "tags": []
   },
   "outputs": [
    {
     "name": "stdout",
     "output_type": "stream",
     "text": [
      "Quel est ton nom ? John\n",
      "John, quel est votre âge ? 78\n"
     ]
    },
    {
     "name": "stdout",
     "output_type": "stream",
     "text": [
      "Vous vous appellez John. Vous avez 78 ans.\n",
      "Dans un an, vous aurez 79 ans.\n",
      "Vous êtes un sénior.\n"
     ]
    },
    {
     "name": "stdout",
     "output_type": "stream",
     "text": [
      "Quel est ton nom ? h\n",
      "h, quel est votre âge ? j\n"
     ]
    },
    {
     "name": "stdout",
     "output_type": "stream",
     "text": [
      "Erreur, vous devez rentrer des chiffres\n"
     ]
    },
    {
     "name": "stdout",
     "output_type": "stream",
     "text": [
      "h, quel est votre âge ? 89\n"
     ]
    },
    {
     "name": "stdout",
     "output_type": "stream",
     "text": [
      "Vous vous appellez h. Vous avez 89 ans.\n",
      "Dans un an, vous aurez 90 ans.\n",
      "Vous êtes un sénior.\n"
     ]
    }
   ],
   "source": [
    "for i in range(0, 3):\n",
    "    \n",
    "    name = ask_name()\n",
    "\n",
    "    age = ask_age(name)\n",
    "\n",
    "    inform_pers(name, age)"
   ]
  },
  {
   "cell_type": "code",
   "execution_count": null,
   "id": "fffaa9cc-9a3d-4e4c-83fe-2607c2c2735c",
   "metadata": {
    "tags": []
   },
   "outputs": [
    {
     "name": "stdout",
     "output_type": "stream",
     "text": [
      "Toto a 20 ans\n"
     ]
    }
   ],
   "source": [
    "print(\"Toto a\",20,\"ans\")"
   ]
  },
  {
   "cell_type": "code",
   "execution_count": null,
   "id": "ca37972a-3124-42ca-99e8-f5c21c4bf719",
   "metadata": {
    "jupyter": {
     "source_hidden": true
    },
    "tags": []
   },
   "outputs": [],
   "source": []
  },
  {
   "cell_type": "markdown",
   "id": "e7cba177-c8ad-4f7c-9a29-c161d1411530",
   "metadata": {},
   "source": [
    "## **Projet Turtle**"
   ]
  },
  {
   "cell_type": "code",
   "execution_count": null,
   "id": "73ffc572-ec42-437e-b7d4-9fc4d59dbd7d",
   "metadata": {
    "tags": []
   },
   "outputs": [],
   "source": [
    "import turtle"
   ]
  },
  {
   "cell_type": "code",
   "execution_count": null,
   "id": "74f2e51d-32a5-4d0f-a4a0-3345c6157a6e",
   "metadata": {
    "tags": []
   },
   "outputs": [],
   "source": [
    "t = turtle.Turtle()\n",
    "\n",
    "def escalier(nb, taille):\n",
    "\n",
    "    for _ in range(nb):\n",
    "        t.forward(taille)\n",
    "        t.left(90)\n",
    "        t.forward(taille)\n",
    "        t.right(90)\n",
    "    t.forward(30)\n",
    "    \n",
    "def square(taille):\n",
    "    for _ in range(4):\n",
    "        t.forward(taille)\n",
    "        t.right(90)\n",
    "        \n",
    "        \n",
    "def squares(taille, nb):\n",
    "    for i in range(1, nb):\n",
    "        square(i*taille)\n",
    "\n",
    "squares(50, 5)        \n",
    "        \n",
    "# square(50)\n",
    "    \n",
    "# escalier(9, 50)\n",
    "    \n",
    "turtle.done()"
   ]
  },
  {
   "cell_type": "code",
   "execution_count": null,
   "id": "a32f7345-fa5f-4f1f-8bef-57f480264203",
   "metadata": {
    "jupyter": {
     "source_hidden": true
    },
    "tags": []
   },
   "outputs": [],
   "source": []
  },
  {
   "cell_type": "markdown",
   "id": "01874635-8bcb-42df-861f-b740bf6929b3",
   "metadata": {
    "tags": []
   },
   "source": [
    "## **Projet Nombre magique**"
   ]
  },
  {
   "cell_type": "code",
   "execution_count": null,
   "id": "39f8a154-7ec1-4ef4-bc28-264ce472a3f9",
   "metadata": {
    "tags": []
   },
   "outputs": [],
   "source": [
    "import random"
   ]
  },
  {
   "cell_type": "code",
   "execution_count": null,
   "id": "0bfcdf0d-aafd-4889-b587-a4c47fae41f6",
   "metadata": {
    "tags": []
   },
   "outputs": [],
   "source": [
    "def ask_mgc_nb(nb_min = 1, nb_max = 10):\n",
    "    \n",
    "    nb_mgc = random.randint(nb_min, nb_max)\n",
    "    nb_vies = 5\n",
    "    nb_mgc_int = 0\n",
    "    \n",
    "    while int(nb_mgc_int)!= nb_mgc or nb_vies == 0:\n",
    "        \n",
    "        print(f\"Il vous reste {nb_vies}🧡.\")\n",
    "        \n",
    "        nb_mgc_test = input(f\"Quel est le nombre magique (entre {nb_min} et {nb_max}) ?\")\n",
    "        \n",
    "        try: nb_mgc_int = int(nb_mgc_test)\n",
    "        except: \n",
    "            print(f\"Vous devez entrer un chiffre entre {nb_min} et {nb_max}.\")\n",
    "            continue\n",
    "        else :\n",
    "            if not nb_min <= int(nb_mgc_test) <= nb_max: \n",
    "                print(f\"Vous devez entrer un chiffre entre {nb_min} et {nb_max}.\")\n",
    "                nb_mgc_int = 0; continue\n",
    "                \n",
    "        if int(nb_mgc_int) < nb_mgc : print(\"Le nombre magique est plus grand.\"); nb_vies -= 1 \n",
    "        elif int(nb_mgc_int)== nb_mgc: print(\"Bravo, vous avez gagné.\")\n",
    "        else: print(\"Le nombre magique est plus petit.\"); nb_vies -= 1\n",
    "        \n",
    "        if nb_vies == 0: print(f\"You lose. Le nombre magique était : {nb_mgc}\"); break"
   ]
  },
  {
   "cell_type": "code",
   "execution_count": null,
   "id": "45439c67-0332-42c3-920b-8616ee886e72",
   "metadata": {
    "tags": []
   },
   "outputs": [
    {
     "name": "stdout",
     "output_type": "stream",
     "text": [
      "Il vous reste 5🧡.\n"
     ]
    },
    {
     "name": "stdout",
     "output_type": "stream",
     "text": [
      "Quel est le nombre magique (entre 1 et 10) ? 6\n"
     ]
    },
    {
     "name": "stdout",
     "output_type": "stream",
     "text": [
      "Le nombre magique est plus grand.\n",
      "Il vous reste 4🧡.\n"
     ]
    },
    {
     "name": "stdout",
     "output_type": "stream",
     "text": [
      "Quel est le nombre magique (entre 1 et 10) ? 8\n"
     ]
    },
    {
     "name": "stdout",
     "output_type": "stream",
     "text": [
      "Le nombre magique est plus grand.\n",
      "Il vous reste 3🧡.\n"
     ]
    },
    {
     "name": "stdout",
     "output_type": "stream",
     "text": [
      "Quel est le nombre magique (entre 1 et 10) ? 9\n"
     ]
    },
    {
     "name": "stdout",
     "output_type": "stream",
     "text": [
      "Bravo, vous avez gagné.\n"
     ]
    }
   ],
   "source": [
    "ask_mgc_nb()"
   ]
  },
  {
   "cell_type": "code",
   "execution_count": null,
   "id": "80d2683f-db49-4f20-b918-55fcdbf2b2e0",
   "metadata": {
    "jupyter": {
     "source_hidden": true
    },
    "tags": []
   },
   "outputs": [],
   "source": []
  },
  {
   "cell_type": "markdown",
   "id": "c631f4af-bb63-44d7-9d0f-fda74f3167b3",
   "metadata": {},
   "source": [
    "## **Projet Maths**"
   ]
  },
  {
   "cell_type": "code",
   "execution_count": null,
   "id": "960a4c79-d8e0-4adf-8191-ce474921f34b",
   "metadata": {
    "tags": []
   },
   "outputs": [],
   "source": [
    "import random"
   ]
  },
  {
   "cell_type": "code",
   "execution_count": null,
   "id": "f75f8bdd-6dec-4855-aef0-596d150c789b",
   "metadata": {
    "tags": []
   },
   "outputs": [],
   "source": [
    "def ask_maths_oper(nb_min = 1, nb_max = 10, nb_ques = 4):\n",
    "    \n",
    "    nb_point = 0\n",
    "    \n",
    "    for i in range(1, nb_ques + 1):\n",
    "        \n",
    "        print(f\"Question n°{i} sur {nb_ques}.\\n\")\n",
    "        \n",
    "        a = random.randint(nb_min, nb_max)\n",
    "        b = random.randint(nb_min, nb_max)\n",
    "        p = random.randint(0, 1)\n",
    "        if p: c = a+b; d = \"+\"\n",
    "        else: c = a*b; d = \"*\"\n",
    "        \n",
    "        rep_int = \"\"\n",
    "        \n",
    "        while not type(rep_int) == int:\n",
    "            \n",
    "            rep_test = input(f\"Calculez: {a} {d} {b} ?\")\n",
    "            try: rep_int = int(rep_test)\n",
    "            except: print(f\"Vous devez entrer un nombre, petit malin 😈.\\n\")\n",
    "                \n",
    "        if int(rep_int) != c : print(\"Réponse incorrecte.\\n\"); nb_point += 0 \n",
    "        else: print(\"Réponse correcte bg 😎.\\n\"); nb_point += 1\n",
    "        \n",
    "    print(f\"Votre score est : {nb_point}/{nb_ques}\")\n",
    "    \n",
    "    if nb_point == nb_ques : print(\"Excellent, great job.👌\")\n",
    "    elif nb_point == 0 : print(\"Révise tes maths.😡\")\n",
    "    elif nb_point > nb_ques/2 : print(\"Not bad.😊\")\n",
    "    else : print(\"Peut mieux faire.😔\")\n",
    "    "
   ]
  },
  {
   "cell_type": "code",
   "execution_count": null,
   "id": "7afcf108-5245-4b48-920f-02eaa48ac652",
   "metadata": {
    "tags": []
   },
   "outputs": [
    {
     "name": "stdout",
     "output_type": "stream",
     "text": [
      "Question n°1 sur 4.\n",
      "\n"
     ]
    },
    {
     "name": "stdout",
     "output_type": "stream",
     "text": [
      "Calculez: 4 * 2 ? 8\n"
     ]
    },
    {
     "name": "stdout",
     "output_type": "stream",
     "text": [
      "Réponse correcte bg 😎.\n",
      "\n",
      "Question n°2 sur 4.\n",
      "\n"
     ]
    },
    {
     "name": "stdout",
     "output_type": "stream",
     "text": [
      "Calculez: 1 + 3 ? 4\n"
     ]
    },
    {
     "name": "stdout",
     "output_type": "stream",
     "text": [
      "Réponse correcte bg 😎.\n",
      "\n",
      "Question n°3 sur 4.\n",
      "\n"
     ]
    },
    {
     "name": "stdout",
     "output_type": "stream",
     "text": [
      "Calculez: 10 * 7 ? 8\n"
     ]
    },
    {
     "name": "stdout",
     "output_type": "stream",
     "text": [
      "Réponse incorrecte.\n",
      "\n",
      "Question n°4 sur 4.\n",
      "\n"
     ]
    },
    {
     "name": "stdout",
     "output_type": "stream",
     "text": [
      "Calculez: 6 + 6 ? 12\n"
     ]
    },
    {
     "name": "stdout",
     "output_type": "stream",
     "text": [
      "Réponse correcte bg 😎.\n",
      "\n",
      "Votre score est : 3/4\n",
      "Not bad.😊\n"
     ]
    }
   ],
   "source": [
    "ask_maths_oper()"
   ]
  },
  {
   "cell_type": "code",
   "execution_count": null,
   "id": "8b57382d-12a0-4c27-a3c9-172e3dae2c0e",
   "metadata": {
    "jupyter": {
     "source_hidden": true
    },
    "tags": []
   },
   "outputs": [],
   "source": []
  },
  {
   "cell_type": "markdown",
   "id": "966eef2d-7183-4e72-9e01-2d63a168ccfc",
   "metadata": {},
   "source": [
    "### **Exercice 1 : Convertisseur**"
   ]
  },
  {
   "cell_type": "code",
   "execution_count": null,
   "id": "b50b7b7d-235c-45da-a724-6d8d3443b673",
   "metadata": {
    "tags": []
   },
   "outputs": [],
   "source": [
    "def convert_cm_pouces():\n",
    "    \n",
    "    quest1, convert1, convert2 = 0, 0, 0\n",
    "    \n",
    "    \n",
    "    while quest1 == 0:\n",
    "        \n",
    "        quest_in = input(\"Voulez vous convertir en : \\n1-)Pouces vers cm.  \\n2-)Cm vers pouces.\")\n",
    "        \n",
    "        try: quest1 = int(quest_in)\n",
    "        \n",
    "        except: print(\"Erreur, vous devez faire un choix entre 1 et 2.\")\n",
    "        \n",
    "        else: \n",
    "            \n",
    "            if not 1 <= quest1 <= 2 : quest1 = 0 ; print(\"Erreur, vous devez faire un choix entre 1 et 2.\")\n",
    "    \n",
    "    if quest1 == 1:\n",
    "        \n",
    "        while convert1 == 0:\n",
    "            \n",
    "            convert_in1 = input(\"Combien de pouces voulez convertir en cm ?\")\n",
    "        \n",
    "            try: convert1 = float(convert_in1)\n",
    "\n",
    "            except: print(\"Erreur, veuillez rentrer des données valides.\")\n",
    "            \n",
    "        print(f\" La valeur convertie est: { 2.54 * convert1:.2f} cm\")\n",
    "    \n",
    "    else:\n",
    "        \n",
    "        while convert2 == 0:\n",
    "            \n",
    "            convert_in2 = input(\"Combien de cm voulez convertir en pouces.\")\n",
    "        \n",
    "            try: convert2 = float(convert_in2)\n",
    "        \n",
    "            except: print(\"Erreur, veuillez rentrer des données valides.\")\n",
    "              \n",
    "        print(f\" La valeur convertie est: { 0.394 * convert2:.2f} pouces.\")\n",
    "            "
   ]
  },
  {
   "cell_type": "code",
   "execution_count": null,
   "id": "535bfc56-cd6f-49a4-8954-1b45e6a3ac56",
   "metadata": {
    "tags": []
   },
   "outputs": [
    {
     "name": "stdout",
     "output_type": "stream",
     "text": [
      "Voulez vous convertir en : \n",
      "1-)Pouces vers cm.  \n",
      "2-)Cm vers pouces. 1\n",
      "Combien de pouces voulez convertir en cm ? 2.5\n"
     ]
    },
    {
     "name": "stdout",
     "output_type": "stream",
     "text": [
      " La valeur convertie est: 6.35 cm\n"
     ]
    }
   ],
   "source": [
    "convert_cm_pouces()"
   ]
  },
  {
   "cell_type": "code",
   "execution_count": null,
   "id": "6dd856b4-5bd9-47fb-8393-10de13b47a68",
   "metadata": {
    "tags": []
   },
   "outputs": [],
   "source": [
    "def convertisseur_2_unit(unit1 = 'pouces', unit2 = 'cm', fact1_2 = 2.54):\n",
    "    \n",
    "    f\"\"\" Convertisseur de {unit1} --> {unit2} ou {unit2} --> {unit1} \n",
    "    \n",
    "    fact1_2 : 1 pouce = 2.54 cm par exemple \"\"\"\n",
    "    \n",
    "    quest, convert = 0, 0\n",
    "    \n",
    "    while quest == 0:\n",
    "        \n",
    "        quest_in = input(f\"\\nVoulez vous convertir en :\\n \\n1-){unit1} vers {unit2}.  \\n2-){unit2} vers {unit1}. \\n3-)Quitter ?\")\n",
    "        \n",
    "        try: quest = int(quest_in)\n",
    "        \n",
    "        except: print(\"\\nErreur, vous devez faire un choix entre 1, 2 et 3.\"); continue\n",
    "        \n",
    "        else: \n",
    "            \n",
    "            if quest == 3 : break \n",
    "                \n",
    "            elif quest > 3 :   quest = 0 ; print(\"\\nErreur, vous devez faire un choix entre 1, 2 et 3.\") ; continue\n",
    "\n",
    "\n",
    "        while convert == 0:\n",
    "\n",
    "                convert_in = input(f\"\\nEntrez le nombre de {unit1 if quest == 1 else unit2} à convertir ?\")\n",
    "\n",
    "                try: convert = float(convert_in)\n",
    "\n",
    "                except: print(\"\\nErreur, veuillez rentrer des données valides.\\n\")\n",
    "\n",
    "        print(f\"\\nLa valeur convertie est: { fact1_2 * convert if quest == 1 else (1/fact1_2) * convert :.2f} {unit2 if quest == 1 else unit1}\")\n",
    "        \n",
    "        quest = 0"
   ]
  },
  {
   "cell_type": "code",
   "execution_count": null,
   "id": "5c89e781-c104-4e55-8073-8f4de29fa673",
   "metadata": {
    "tags": []
   },
   "outputs": [
    {
     "name": "stdout",
     "output_type": "stream",
     "text": [
      "\n",
      "Voulez vous convertir en :\n",
      " \n",
      "1-)pouces vers cm.  \n",
      "2-)cm vers pouces. \n",
      "3-)Quitter ? 3\n"
     ]
    }
   ],
   "source": [
    "convertisseur_2_unit()"
   ]
  },
  {
   "cell_type": "code",
   "execution_count": null,
   "id": "a26fa3cc-f2a5-489a-9f17-4085034d8d4f",
   "metadata": {
    "jupyter": {
     "source_hidden": true
    },
    "tags": []
   },
   "outputs": [],
   "source": []
  },
  {
   "cell_type": "markdown",
   "id": "58f147ee-7ae1-43e4-956c-846eebccdbbc",
   "metadata": {},
   "source": [
    "### **Exercice 2 : Cuissons des oeufs🥚** "
   ]
  },
  {
   "cell_type": "code",
   "execution_count": null,
   "id": "77069b74-5eb2-41c6-9a11-fd71fb9836ae",
   "metadata": {
    "tags": []
   },
   "outputs": [],
   "source": [
    "import time as timer\n",
    "import beepy"
   ]
  },
  {
   "cell_type": "code",
   "execution_count": null,
   "id": "4c289c86-024e-433e-9666-0ee78b9f034b",
   "metadata": {
    "tags": []
   },
   "outputs": [],
   "source": [
    "def cuisson(spec = \"oeufs\", plat_a = \"Oeufs à la coque\", plat_b = \"Oeufs mollets\", plat_c = \"Oeufs durs\", time_a = 3 , time_b = 6 , time_c = 9, time_slp = 10):\n",
    "    \n",
    "    \"\"\" Cuisson de 3 plats dont le choix est laissé au cuisinier\n",
    "    \n",
    "    Exemple avec 3 plats d'oeufs\n",
    "    \n",
    "    \"\"\"\n",
    "\n",
    "    choice = 0\n",
    "    \n",
    "    while choice == 0 :\n",
    "        \n",
    "        choice = input(f\"\\nCuisson des {spec}\\n\" + 30*\"-\" + f\"\\na)-{plat_a} ({time_a} min) \\nb)-{plat_b} ({time_b} min) \\nc)-{plat_c} ({time_c} min) \\nd)-Quitter ?\")\n",
    "            \n",
    "        if choice == \"d\" : break \n",
    "                \n",
    "        elif choice != \"a\" and choice != \"b\" and choice != \"c\" :  choice = 0 ; print(\"\\nErreur, vous devez faire un choix entre a, b, c et d.\") ; continue\n",
    "        \n",
    "        print(f\"\\nVotre choix est : {choice} \\n\\nCuisson en cours\", end = \"\")\n",
    "        \n",
    "        for i in range(time_slp): timer.sleep(1); print(\"😴\", end = \"\", flush = True)\n",
    "        \n",
    "        if choice == \"a\" : time = time_a  \n",
    "        \n",
    "        elif choice == \"b\": time = time_b \n",
    "        \n",
    "        else: time = time_c\n",
    "        \n",
    "        for i in range(60*time-time_slp, 0, -time_slp):\n",
    "\n",
    "            minute = i//60  ; sec = i-60*minute ;\n",
    "\n",
    "            print(f\"\\nDurée restante : {minute:02d}:{sec:02d}\", end = \"\", flush = True)\n",
    "            \n",
    "            for i in range(time_slp): timer.sleep(1); print(\"..😴\", end = \"\", flush = True)\n",
    "        \n",
    "        beepy.beep(sound=\"ping\")\n",
    "        \n",
    "        print(\"\\n\\nFin de la préparation\")\n",
    "        \n",
    "        choice = 0"
   ]
  },
  {
   "cell_type": "code",
   "execution_count": null,
   "id": "d36097b7-281f-4215-95dd-3ec61423e863",
   "metadata": {
    "tags": []
   },
   "outputs": [
    {
     "name": "stdout",
     "output_type": "stream",
     "text": [
      "\n",
      "Cuisson des oeufs\n",
      "------------------------------\n",
      "a)-Oeufs à la coque (3 min) \n",
      "b)-Oeufs mollets (6 min) \n",
      "c)-Oeufs durs (9 min) \n",
      "d)-Quitter ? a\n"
     ]
    },
    {
     "name": "stdout",
     "output_type": "stream",
     "text": [
      "\n",
      "Votre choix est : a \n",
      "\n",
      "Cuisson en cours😴😴😴😴😴😴😴😴😴😴\n",
      "Durée restante : 02:50..😴..😴..😴..😴..😴..😴..😴..😴..😴..😴\n",
      "Durée restante : 02:40..😴..😴..😴..😴..😴..😴..😴..😴..😴..😴\n",
      "Durée restante : 02:30..😴..😴..😴..😴..😴..😴..😴..😴..😴..😴\n",
      "Durée restante : 02:20..😴..😴..😴..😴..😴..😴..😴..😴..😴..😴\n",
      "Durée restante : 02:10..😴..😴..😴..😴..😴..😴..😴..😴..😴..😴\n",
      "Durée restante : 02:00..😴..😴..😴..😴..😴..😴..😴..😴..😴..😴\n",
      "Durée restante : 01:50..😴..😴..😴..😴..😴..😴..😴..😴..😴..😴\n",
      "Durée restante : 01:40..😴..😴..😴..😴..😴..😴..😴..😴..😴..😴\n",
      "Durée restante : 01:30..😴..😴..😴..😴..😴..😴..😴..😴..😴..😴\n",
      "Durée restante : 01:20..😴..😴..😴..😴..😴..😴..😴..😴..😴..😴\n",
      "Durée restante : 01:10..😴..😴..😴..😴..😴..😴..😴..😴..😴..😴\n",
      "Durée restante : 01:00..😴..😴..😴..😴..😴..😴..😴..😴..😴..😴\n",
      "Durée restante : 00:50..😴..😴..😴..😴..😴..😴..😴..😴..😴..😴\n",
      "Durée restante : 00:40..😴..😴..😴..😴..😴..😴..😴..😴..😴..😴\n",
      "Durée restante : 00:30..😴..😴..😴..😴..😴..😴..😴..😴..😴..😴\n",
      "Durée restante : 00:20..😴..😴..😴..😴..😴..😴..😴..😴..😴..😴\n",
      "Durée restante : 00:10..😴..😴..😴..😴..😴..😴..😴..😴..😴..😴\n",
      "\n",
      "Fin de la préparation\n"
     ]
    },
    {
     "name": "stdout",
     "output_type": "stream",
     "text": [
      "\n",
      "Cuisson des oeufs\n",
      "------------------------------\n",
      "a)-Oeufs à la coque (3 min) \n",
      "b)-Oeufs mollets (6 min) \n",
      "c)-Oeufs durs (9 min) \n",
      "d)-Quitter ? d\n"
     ]
    }
   ],
   "source": [
    "cuisson()"
   ]
  },
  {
   "cell_type": "code",
   "execution_count": null,
   "id": "43c30de7-0c85-4ee4-bfcf-2f87a236d8c0",
   "metadata": {},
   "outputs": [],
   "source": []
  },
  {
   "cell_type": "markdown",
   "id": "79aec453-368b-4b85-ae89-ef04e6d6721f",
   "metadata": {},
   "source": [
    "### **Exercice 3: Jeu de mémoire (Simon)**"
   ]
  },
  {
   "cell_type": "code",
   "execution_count": null,
   "id": "98a05590-f19d-4a77-9230-1ed458cf72f6",
   "metadata": {
    "tags": []
   },
   "outputs": [],
   "source": [
    "import time as timer\n",
    "\n",
    "import os\n",
    "\n",
    "import random\n",
    "\n",
    "from IPython.display import clear_output\n",
    "\n",
    "def clear_screen():\n",
    "    \n",
    "    if(os.name == 'posix'):\n",
    "        os.system('clear')\n",
    "    else:\n",
    "        os.system('cls')"
   ]
  },
  {
   "cell_type": "code",
   "execution_count": null,
   "id": "52ab5f30-bc18-4685-9af8-8d05b45e24fe",
   "metadata": {
    "tags": []
   },
   "outputs": [],
   "source": [
    "def simon(num_ch = 4):\n",
    "    \n",
    "    \"\"\" Jeu de mémoire\n",
    "    \n",
    "    num_ch ## nombre de chiffre début\n",
    "    \n",
    "    \"\"\"\n",
    "    \n",
    "    a = \"\" \n",
    "    \n",
    "    for i in range(num_ch-1): a += str(random.randint(0,9))\n",
    "        \n",
    "    b, score = a, 0 \n",
    "    \n",
    "    while a == b:\n",
    "        \n",
    "        a += str(random.randint(0,9))\n",
    "        \n",
    "        clear_output(wait= True)\n",
    "        \n",
    "        print(\"Retenez la séquence : \")\n",
    "    \n",
    "        timer.sleep(1)\n",
    "    \n",
    "        print(f\"{a}\")\n",
    "        \n",
    "        timer.sleep(3)\n",
    "\n",
    "        clear_output(wait= False)\n",
    "        \n",
    "        b = input(\"Votre réponse :\")\n",
    "        \n",
    "        if a == b: \n",
    "            \n",
    "            score += 1\n",
    "\n",
    "            clear_output(wait= False)\n",
    "            \n",
    "            print(f\"Bonne réponse. \\nVotre score est : {score}\")\n",
    "            \n",
    "            timer.sleep(1)\n",
    "            \n",
    "        else: print(f\"Mauvaise réponse, la bonne séquence était {a}. \\nVotre score final est de : {score}\")"
   ]
  },
  {
   "cell_type": "code",
   "execution_count": null,
   "id": "dab566d7-5f3a-43f8-8a27-f543aefb4549",
   "metadata": {},
   "outputs": [],
   "source": []
  },
  {
   "cell_type": "markdown",
   "id": "59362deb-fe08-40f3-bffd-f931de300dab",
   "metadata": {},
   "source": [
    "# **Module d'expertise**"
   ]
  },
  {
   "cell_type": "markdown",
   "id": "bee55fc6-e22f-4cb7-9210-7a7800c9a9d5",
   "metadata": {},
   "source": [
    "### **Fonction**"
   ]
  },
  {
   "cell_type": "code",
   "execution_count": 22,
   "id": "a6efc924-1190-402b-9bc5-a37bdd31466a",
   "metadata": {
    "tags": []
   },
   "outputs": [
    {
     "name": "stdout",
     "output_type": "stream",
     "text": [
      "Je m'appelle Toto Tata\n",
      "Je m'appelle Tata Toto\n"
     ]
    }
   ],
   "source": [
    "# Concatener\n",
    "\n",
    "print(\"Je m'appelle Toto \" + \"Tata\")\n",
    "\n",
    "print(\"Je m'appelle Tata\", \"Toto\")"
   ]
  },
  {
   "cell_type": "code",
   "execution_count": 52,
   "id": "6a520e94-53a6-4f97-9eba-0168e7ec99a3",
   "metadata": {
    "tags": []
   },
   "outputs": [],
   "source": [
    "def aff_infos_pers(nom = \"\", age = 0):\n",
    "    \n",
    "    if nom == \"\":\n",
    "        print(\"Nom indisponible\",\"l'âge vaut\", age)\n",
    "        return\n",
    "    \n",
    "    if age == 0:\n",
    "        print(\"La personne est\", nom)\n",
    "    \n",
    "    else:\n",
    "        print(\"La personne est\", nom, \"et son âge est\",age , \"ans\")\n",
    "\n",
    "    print(\"Le nom comporte\", len(nom), \"caractères\")"
   ]
  },
  {
   "cell_type": "code",
   "execution_count": 54,
   "id": "02fb0ef5-c23c-4745-9094-57f73d3f3cb2",
   "metadata": {
    "tags": []
   },
   "outputs": [
    {
     "name": "stdout",
     "output_type": "stream",
     "text": [
      "Nom indisponible l'âge vaut 67\n"
     ]
    }
   ],
   "source": [
    "aff_infos_pers(age = 67)"
   ]
  },
  {
   "cell_type": "code",
   "execution_count": 64,
   "id": "5e0896c0-a71d-41dc-9ab5-6acd6d9aecc2",
   "metadata": {
    "tags": []
   },
   "outputs": [],
   "source": [
    "def recup_affich_pers(a = 1):\n",
    "    nom = input(f\"Nom de la personne {a} :\")\n",
    "    age = input(f\"Age de la personne {a} :\")\n",
    "    print(\"La personne 1 est\", nom,\"son age est\", age,\"ans\")\n",
    "    print(\"Le nom comporte\", len(nom), \"lettres\")"
   ]
  },
  {
   "cell_type": "code",
   "execution_count": 96,
   "id": "fcca60e3-f02b-4865-a339-dfcab6b47ecd",
   "metadata": {
    "tags": []
   },
   "outputs": [],
   "source": [
    "def table_multipl(mini, maxi, n):\n",
    "    \n",
    "    try: int(mini) + int(maxi) + int(n)\n",
    "    \n",
    "    except: print(\"erreur entrée invalide\"); return\n",
    "    \n",
    "    if mini < maxi:\n",
    "        for i in range(mini, maxi + 1): print(f\"\\n#{str(i)} x {str(n)} = {i*n}\")\n",
    "    else:print(\"erreur min >= max\")"
   ]
  },
  {
   "cell_type": "code",
   "execution_count": 98,
   "id": "f040c92b-d8a0-4a1b-9ee2-4b829dcc8b6e",
   "metadata": {
    "tags": []
   },
   "outputs": [],
   "source": [
    "# table_multipl(1,10, 2)"
   ]
  },
  {
   "cell_type": "markdown",
   "id": "b3aff5f1-e054-4a83-80d5-0fe1501550c9",
   "metadata": {},
   "source": [
    "## **Coder un questionnaire**"
   ]
  },
  {
   "cell_type": "code",
   "execution_count": 131,
   "id": "15166b4a-dc70-461a-b8fd-ec7b3e388a89",
   "metadata": {
    "tags": []
   },
   "outputs": [],
   "source": [
    "def question(ville = \"\", a =\"\", b = \"\", c = \"\", d = \"\", sol = \"\"):\n",
    "    \n",
    "    global score # atteindre la variable depuis le programme principal\n",
    "    print(f\"Question: Quelle est la capitale de {ville} ?\\n\\n(a){a}\\n(b){b}\\n(c){c}\\n(d){d}\\n\")\n",
    "    response = input(\"Votre réponce est : \")\n",
    "    if response == sol : print(\"\\nBonne réponse\\n\"); score += 1\n",
    "    else:print(\"\\nMauvaise réponse\\n\");"
   ]
  },
  {
   "cell_type": "code",
   "execution_count": 133,
   "id": "894c5870-1850-448e-94c9-d136862d686f",
   "metadata": {
    "tags": []
   },
   "outputs": [
    {
     "name": "stdout",
     "output_type": "stream",
     "text": [
      "Question: Quelle est la capitale de la France ?\n",
      "\n",
      "(a)Marseille\n",
      "(b)Nice\n",
      "(c)Paris\n",
      "(d)Nantes\n",
      "\n"
     ]
    },
    {
     "name": "stdout",
     "output_type": "stream",
     "text": [
      "Votre réponce est :  c\n"
     ]
    },
    {
     "name": "stdout",
     "output_type": "stream",
     "text": [
      "\n",
      "Bonne réponse\n",
      "\n",
      "Question: Quelle est la capitale de le Benin ?\n",
      "\n",
      "(a)Cotonou\n",
      "(b)Porto-Novo\n",
      "(c)Ouidah\n",
      "(d)Parakou\n",
      "\n"
     ]
    },
    {
     "name": "stdout",
     "output_type": "stream",
     "text": [
      "Votre réponce est :  b\n"
     ]
    },
    {
     "name": "stdout",
     "output_type": "stream",
     "text": [
      "\n",
      "Bonne réponse\n",
      "\n",
      "Question: Quelle est la capitale de l'USA ?\n",
      "\n",
      "(a)Franscisco\n",
      "(b)New-York\n",
      "(c)Californie\n",
      "(d)New-Jersey\n",
      "\n"
     ]
    },
    {
     "name": "stdout",
     "output_type": "stream",
     "text": [
      "Votre réponce est :  b\n"
     ]
    },
    {
     "name": "stdout",
     "output_type": "stream",
     "text": [
      "\n",
      "Bonne réponse\n",
      "\n",
      "Question: Quelle est la capitale de l'Italie ?\n",
      "\n",
      "(a)Rome\n",
      "(b)Venise\n",
      "(c)Milan\n",
      "(d)Naples\n",
      "\n"
     ]
    },
    {
     "name": "stdout",
     "output_type": "stream",
     "text": [
      "Votre réponce est :  a\n"
     ]
    },
    {
     "name": "stdout",
     "output_type": "stream",
     "text": [
      "\n",
      "Bonne réponse\n",
      "\n"
     ]
    }
   ],
   "source": [
    "score = 0\n",
    "question(\"la France\", \"Marseille\", \"Nice\", \"Paris\",\"Nantes\", \"c\")\n",
    "question(\"le Benin\", \"Cotonou\", \"Porto-Novo\", \"Ouidah\",\"Parakou\", \"b\")\n",
    "question(\"l'USA\", \"Franscisco\", \"New-York\", \"Californie\",\"New-Jersey\", \"b\")\n",
    "question(\"l'Italie\", \"Rome\", \"Venise\", \"Milan\",\"Naples\", \"a\")"
   ]
  },
  {
   "cell_type": "code",
   "execution_count": 135,
   "id": "cc4f8d13-2323-45dc-a456-95e8b80c8e89",
   "metadata": {
    "tags": []
   },
   "outputs": [
    {
     "data": {
      "text/plain": [
       "4"
      ]
     },
     "execution_count": 135,
     "metadata": {},
     "output_type": "execute_result"
    }
   ],
   "source": [
    "score"
   ]
  },
  {
   "cell_type": "code",
   "execution_count": null,
   "id": "e9ac7901-d286-4a7b-8dc8-16cb3385f911",
   "metadata": {},
   "outputs": [],
   "source": []
  },
  {
   "cell_type": "markdown",
   "id": "06f7be6f-5b9d-4317-b626-b48171277e6c",
   "metadata": {},
   "source": [
    "### **Fonction récursives**"
   ]
  },
  {
   "cell_type": "code",
   "execution_count": 122,
   "id": "12f3a0b6-c3ed-4da7-be85-657efd56a106",
   "metadata": {
    "tags": []
   },
   "outputs": [],
   "source": [
    "def a(n, limit):\n",
    "    if n > limit:\n",
    "        return\n",
    "    print(\"n:\",n)\n",
    "    a(n*n, limit)"
   ]
  },
  {
   "cell_type": "code",
   "execution_count": 124,
   "id": "7ddc3a4a-8b59-49f2-852a-7d98766a3798",
   "metadata": {
    "tags": []
   },
   "outputs": [
    {
     "name": "stdout",
     "output_type": "stream",
     "text": [
      "n: 2\n",
      "n: 4\n",
      "n: 16\n",
      "n: 256\n",
      "n: 65536\n"
     ]
    }
   ],
   "source": [
    "a(2, 100000)"
   ]
  },
  {
   "cell_type": "code",
   "execution_count": 7,
   "id": "362f01f5-e7ae-4dd1-aeef-c37cefc20c27",
   "metadata": {
    "tags": []
   },
   "outputs": [],
   "source": [
    "def demander_choix_utilisateur(min, max):\n",
    "    reponse_str = input(\"Quel est votre choix entre \" + str(min) + \" et \" + str(max) + \" :\")\n",
    "    try:\n",
    "        reponse_int = int(reponse_str)\n",
    "        if not min <= reponse_int <= max:\n",
    "            print(\"ERREUR: Vous devez rentrer un nombre entre\", min, \" et \", max)\n",
    "            return demander_choix_utilisateur(min, max)\n",
    "        return reponse_int\n",
    "    except:\n",
    "        print(\"ERREUR: Vous devez rentrer un nombre\")\n",
    "        return demander_choix_utilisateur(min, max)"
   ]
  },
  {
   "cell_type": "code",
   "execution_count": 11,
   "id": "7b918554-3876-46e6-b503-c23751780514",
   "metadata": {
    "tags": []
   },
   "outputs": [
    {
     "name": "stdout",
     "output_type": "stream",
     "text": [
      "Quel est votre choix entre 1 et 10 : k\n"
     ]
    },
    {
     "name": "stdout",
     "output_type": "stream",
     "text": [
      "ERREUR: Vous devez rentrer un nombre\n"
     ]
    },
    {
     "name": "stdout",
     "output_type": "stream",
     "text": [
      "Quel est votre choix entre 1 et 10 : 2\n"
     ]
    },
    {
     "data": {
      "text/plain": [
       "2"
      ]
     },
     "execution_count": 11,
     "metadata": {},
     "output_type": "execute_result"
    }
   ],
   "source": [
    "demander_choix_utilisateur(1, 10)"
   ]
  },
  {
   "cell_type": "code",
   "execution_count": null,
   "id": "622bf156-801a-4f93-9c81-b5e0581f41e9",
   "metadata": {},
   "outputs": [],
   "source": []
  },
  {
   "cell_type": "code",
   "execution_count": 13,
   "id": "1bbe0bb1-7ce6-4f2e-89fd-01fb25c6ad85",
   "metadata": {
    "tags": []
   },
   "outputs": [
    {
     "name": "stdout",
     "output_type": "stream",
     "text": [
      "toto\n",
      "a 5 b 1\n"
     ]
    }
   ],
   "source": [
    "# CALLBACK (Fonction dans Fonction)\n",
    "\n",
    "def ma_fonction():\n",
    "    print(\"toto\")\n",
    "    return 1\n",
    "\n",
    "a = 5\n",
    "\n",
    "b = ma_fonction\n",
    "\n",
    "print(\"a\", a, \"b\", b())\n",
    "\n",
    "def mult_callback(a, b):\n",
    "    return a*b\n",
    "\n",
    "def add_callback(a, b):\n",
    "    return a+b\n",
    "\n",
    "def power_callback(a, b):\n",
    "    return pow(a, b)\n",
    "\n",
    "def afficher_table(n, operateur_str, operation_cbk):\n",
    "    for i in range(1, 10):\n",
    "        print(i, operateur_str, n, \"=\", operation_cbk(i, n))"
   ]
  },
  {
   "cell_type": "code",
   "execution_count": null,
   "id": "b706ec71-5936-4a0b-8501-f3e6e875c921",
   "metadata": {},
   "outputs": [],
   "source": [
    "# FONCTIONS LAMBDA\n",
    "\n",
    "afficher_table(2, \"x\", lambda a, b : a * b)\n",
    "print()\n",
    "afficher_table(2, \"+\", lambda a, b : a + b)\n",
    "print()\n",
    "afficher_table(2, \"^\", lambda a, b : pow(a, b))"
   ]
  },
  {
   "cell_type": "code",
   "execution_count": null,
   "id": "cac37976-d4d2-40c3-8944-ed94c40efa88",
   "metadata": {},
   "outputs": [],
   "source": [
    "# Nombre variable de paramètres\n",
    "\n",
    "def a(age, taille, numero_telephone):\n",
    "    print(\"toto\", age, taille, numero_telephone)\n",
    "\n",
    "a(20, 1.75, \"0610101010\")\n",
    "\n",
    "\n",
    "def somme(titre, *nombres):\n",
    "    print(\"TITRE:\", titre)\n",
    "    resultat = 0\n",
    "    for n in nombres:\n",
    "        resultat += n\n",
    "    return resultat\n",
    "\n",
    "# def somme(titre, **nombres):\n",
    "#     print(\"TITRE:\", titre)\n",
    "#     resultat = 0\n",
    "#     for n in nombres.values():\n",
    "#         resultat += n\n",
    "#     return resultat\n",
    "\n",
    "\n",
    "print(somme(\"somme des notes\", 15, 11, 18))\n",
    "\n",
    "# print(somme(\"somme des notes\", maths = 15, geo = 11, anglais = 18))"
   ]
  },
  {
   "cell_type": "code",
   "execution_count": null,
   "id": "4c80ec54-842c-4422-ba63-5ebf4b5af336",
   "metadata": {},
   "outputs": [],
   "source": []
  },
  {
   "cell_type": "markdown",
   "id": "35f405b5-bc7c-4b29-b29b-26dd673af0c4",
   "metadata": {},
   "source": [
    "### **Collections : Tableaux, Listes, Tuples** "
   ]
  },
  {
   "cell_type": "code",
   "execution_count": null,
   "id": "f5fed790-dfb2-418b-9679-81f6af6f21cd",
   "metadata": {},
   "outputs": [],
   "source": [
    "# Tuple (): immutable -> Non modifiable\n",
    "# Liste []: mutable -> modifiable"
   ]
  },
  {
   "cell_type": "code",
   "execution_count": 25,
   "id": "a1cbc3d4-4dc1-4c79-b143-b86bac276790",
   "metadata": {
    "tags": []
   },
   "outputs": [],
   "source": [
    "# Collections : (Tableaux : Array), Listes, Tuples...\n",
    "# Tuple (): immutable -> Non modifiable\n",
    "# Liste []: mutable -> modifiable : rajouter/supprimer des éléments ou les modifier\n",
    "# Plusieurs éléments\n",
    "# afficher_personnes(personnes)\"\"\""
   ]
  },
  {
   "cell_type": "code",
   "execution_count": 27,
   "id": "9f11805e-6c64-468d-912e-78e3f8d78386",
   "metadata": {
    "tags": []
   },
   "outputs": [
    {
     "name": "stdout",
     "output_type": "stream",
     "text": [
      "4\n",
      "Alice\n",
      "Mélanie\n",
      "Jean\n",
      "Martin\n",
      "Alice\n",
      "Mélanie\n",
      "7\n",
      "e\n",
      "Jean\n",
      "4\n",
      "n\n",
      "Martin\n",
      "6\n",
      "n\n",
      "Alice\n",
      "5\n",
      "e\n",
      "4\n"
     ]
    }
   ],
   "source": [
    "# ------------- TUPLES -----------------\n",
    "personnes = (\"Mélanie\", \"Jean\", \"Martin\", \"Alice\")\n",
    "print(len(personnes))\n",
    "print(personnes[-1]) # -1 pour le dernier element\n",
    "\n",
    "for i in range(0, len(personnes)):\n",
    "    print(personnes[i])\n",
    "\n",
    "for i in personnes:\n",
    "   print(i)\n",
    "   print(len(i))\n",
    "   print(i[-1])\n",
    "\n",
    "(0, 1, 2, 3, 4)\n",
    "valeurs = range(0, 5)\n",
    "print(valeurs[-1])"
   ]
  },
  {
   "cell_type": "code",
   "execution_count": null,
   "id": "611293fe-8b4d-4d92-8502-3ea44f19c91f",
   "metadata": {},
   "outputs": [],
   "source": [
    "# ------------- LISTES -------------\n",
    "personnes = [\"Mélanie\", \"Jean\", \"Martin\", \"Alice\"]\n",
    "nouvelle_personne = \"David\"\n",
    "\n",
    "# print(personnes)\n",
    "\n",
    "personnes.append(nouvelle_personne)\n",
    "del personnes[1]\n",
    "\n",
    "# print(personnes)\n",
    "\n",
    "def afficher_personnes(c):\n",
    "    for i in c:\n",
    "        print(i)\n",
    "\n",
    "def modifier_valeur(a):\n",
    "    a[0] = 10\n",
    "\n",
    "test = [1, 2, 3, 4]\n",
    "print(test)\n",
    "modifier_valeur(test)\n",
    "print(test)"
   ]
  },
  {
   "cell_type": "code",
   "execution_count": null,
   "id": "61cad591-f379-42e0-a434-3be3dd84b138",
   "metadata": {},
   "outputs": [],
   "source": [
    "# ------------- FONCTIONS ET TUPLES -------------\n",
    "def obtenir_informations():\n",
    "    return \"Mélanie\", 37, 1.60\n",
    "\n",
    "def afficher_informations(nom, age, taille):\n",
    "    print(f\"Informations: Nom: {nom}, age: {age}, taille:{taille}\")\n",
    "\n",
    "\n",
    "infos = obtenir_informations()\n",
    "afficher_informations(*infos)\n",
    "\n",
    "print(infos)\n",
    "print(*infos)  # unpack tuple\n",
    "print(infos[0], infos[1], infos[2])\n",
    "\n",
    "# print(\"nom: \" + infos[0])\n",
    "# print(\"age: \" + str(infos[1]))\n",
    "# print(\"taille: \" + str(infos[2]))\n",
    "\n",
    "# nom, age, taille = obtenir_informations()\n",
    "# afficher_informations(nom, age, taille)\"\"\""
   ]
  },
  {
   "cell_type": "code",
   "execution_count": null,
   "id": "de3a6bd3-2540-4782-bcd5-e8bc47b54ab9",
   "metadata": {},
   "outputs": [],
   "source": [
    "# ------------- SLICES -------------\n",
    "personnes = (\"Mélanie\", \"Jean\", \"Martin\", \"Alice\", \"Pierre\", \"Paul\")\n",
    "\n",
    "# [start:stop:step]\n",
    "\n",
    "#for i in personnes[::-2]:\n",
    "#    print(i)\n",
    "\n",
    "nom = \"Jean\"\n",
    "print(nom[::-1])"
   ]
  },
  {
   "cell_type": "markdown",
   "id": "c286ed78-52ce-44c4-98f6-6d3eb9eedab2",
   "metadata": {},
   "source": [
    "## **Exercices Collections**"
   ]
  },
  {
   "cell_type": "code",
   "execution_count": 32,
   "id": "eb3aea48-e0fb-47bf-891f-8b7338dad0c8",
   "metadata": {
    "tags": []
   },
   "outputs": [
    {
     "name": "stdout",
     "output_type": "stream",
     "text": [
      "Nom de la personne 1 :  John\n",
      "Nom de la personne 2 :  Jonathan\n",
      "Nom de la personne 3 :  \n"
     ]
    },
    {
     "name": "stdout",
     "output_type": "stream",
     "text": [
      "John\n",
      "Jonathan\n"
     ]
    }
   ],
   "source": [
    "noms = []\n",
    "\n",
    "for i in range(3):\n",
    "    nom = input(f\"Nom de la personne {i+1} : \")\n",
    "    if nom != \"\": noms.append(nom)\n",
    "    else: break\n",
    "for i in noms: print(i)"
   ]
  },
  {
   "cell_type": "code",
   "execution_count": null,
   "id": "ccbc2433-23e2-4d1a-8e2e-6943699bb974",
   "metadata": {},
   "outputs": [],
   "source": [
    "# LISTES - EXERCICE : DEMANDER NOMS DE PERSONNES\n",
    "\n",
    "noms = []\n",
    "\n",
    "while True:\n",
    "    nom = input(\"Nom de la personne : \")\n",
    "    if nom == \"\":\n",
    "        break\n",
    "    noms.append(nom)\n",
    "    \n",
    "print(\"Nom des personnes\")\n",
    "noms.sort() # ordre alphabétique A-Z a-z\n",
    "for nom in noms:\n",
    "    print(\"  \" + nom)"
   ]
  },
  {
   "cell_type": "code",
   "execution_count": 42,
   "id": "40c6f93a-53cc-4174-807e-11ad7dd11340",
   "metadata": {
    "tags": []
   },
   "outputs": [
    {
     "name": "stdout",
     "output_type": "stream",
     "text": [
      "Distance minimale: 0.4 km\n",
      "Index de la distance minimale: 2\n",
      "Nom du chauffeur: Marc\n"
     ]
    }
   ],
   "source": [
    "nom_chauffeur =       [\"Patrick\", \"Paul\", \"Marc\", \"Jean\", \"Pierre\", \"Marie\", \"Maxime\"]\n",
    "distance_chauffeur_km = [1.5,      2.2,    0.4,    0.9,    7.1,     1.1,      0.6]\n",
    "\n",
    "\n",
    "# index_min\n",
    "# V1\n",
    "index_min = 0\n",
    "distance_min = distance_chauffeur_km[0]\n",
    "\n",
    "for i in range(len(distance_chauffeur_km)):\n",
    "    distance = distance_chauffeur_km[i]\n",
    "    if distance < distance_min:\n",
    "        distance_min = distance\n",
    "        index_min = i\n",
    "print(\"Distance minimale:\", distance_min, \"km\")\n",
    "print(\"Index de la distance minimale:\", index_min)\n",
    "print(\"Nom du chauffeur:\", nom_chauffeur[index_min])\n",
    "\n",
    "# distance_chauffeur_km.sort()\n",
    "# print(distance_chauffeur_km[0])\n",
    "# print(distance_chauffeur_km)\n",
    "\n",
    "# noms_et_distances = [(\"Patrick\", 1.5), (\"Paul\", 2.2), (\"Marc\", 0.4)]\n",
    "\n",
    "# #V2\n",
    "# nom_et_distance_min = noms_et_distances[0]\n",
    "# for nom_et_distance in noms_et_distances:\n",
    "#     if nom_et_distance[1] < nom_et_distance_min[1]:\n",
    "#         nom_et_distance_min = nom_et_distance\n",
    "\n",
    "# print(\"Distance minimale:\", nom_et_distance_min[1], \"nom du chauffeur:\", nom_et_distance_min[0])'''"
   ]
  },
  {
   "cell_type": "code",
   "execution_count": null,
   "id": "0bb265d3-898a-4d6e-b11e-3720e56dc670",
   "metadata": {
    "jupyter": {
     "source_hidden": true
    },
    "tags": []
   },
   "outputs": [],
   "source": []
  },
  {
   "cell_type": "markdown",
   "id": "9074ff88-15b8-4401-8425-2e746f80cee6",
   "metadata": {},
   "source": [
    "## **Projet Pizzas**"
   ]
  },
  {
   "cell_type": "code",
   "execution_count": 240,
   "id": "55140e35-6d7c-4b52-b028-be283e105cc2",
   "metadata": {
    "tags": []
   },
   "outputs": [],
   "source": [
    "pizzas = (\"4 fromages\", \"Végétarienne\", \"Hawaï\", \"Calzone\")\n",
    "\n",
    "def tri_personnaliser(a): return len(a)\n",
    "\n",
    "def afficher(nb_pizzas = None):\n",
    "    add_pizza()\n",
    "    global pizzas\n",
    "    pizzas = pizzas[:nb_pizzas]\n",
    "    n = len(pizzas)\n",
    "    print(f'\\n# \"----Liste des Pizzas ({n})----\"')\n",
    "    if n != 0:\n",
    "        for i in range(n): print(f\"\\n# {i+1}- Pizza {pizzas[i]}\")\n",
    "        print(f\"\\n# Première pizza: {pizzas[0]}\\n\\n# Deuxième pizza: {pizzas[-1]}\")\n",
    "        \n",
    "def add_pizza():\n",
    "    global pizzas\n",
    "    pizza_inp = input(\"Pizza à ajouter : \")\n",
    "    \n",
    "    if pizza_inp in pizzas : print(\"Erreur, cette pizza existe déjà\"); return add_pizza()\n",
    "    \n",
    "    # for pizza in pizzas:\n",
    "    #     if pizza == pizza_inp : print(\"Erreur, cette pizza existe déjà\"); return add_pizza()\n",
    "\n",
    "    pizzas = list(pizzas)\n",
    "    pizzas.sort(reverse = True, key = tri_personnaliser)\n",
    "    pizzas.append(pizza_inp)"
   ]
  },
  {
   "cell_type": "code",
   "execution_count": 232,
   "id": "65835174-36ce-48fd-b504-420edea42be2",
   "metadata": {
    "tags": []
   },
   "outputs": [],
   "source": [
    "s = \"Bonjour\"\n",
    "\n",
    "# print(s);print(s.lower()); print(s.upper()) # miniscule, majuscule"
   ]
  },
  {
   "cell_type": "code",
   "execution_count": 242,
   "id": "76741645-4f0f-4ea7-80f2-9a85a619e318",
   "metadata": {
    "tags": []
   },
   "outputs": [
    {
     "name": "stdout",
     "output_type": "stream",
     "text": [
      "Pizza à ajouter :  Pepperoni\n"
     ]
    },
    {
     "name": "stdout",
     "output_type": "stream",
     "text": [
      "\n",
      "# \"----Liste des Pizzas (5)----\"\n",
      "\n",
      "# 1- Pizza Végétarienne\n",
      "\n",
      "# 2- Pizza 4 fromages\n",
      "\n",
      "# 3- Pizza Calzone\n",
      "\n",
      "# 4- Pizza Hawaï\n",
      "\n",
      "# 5- Pizza Pepperoni\n",
      "\n",
      "# Première pizza: Végétarienne\n",
      "\n",
      "# Deuxième pizza: Pepperoni\n"
     ]
    }
   ],
   "source": [
    "afficher()"
   ]
  },
  {
   "cell_type": "code",
   "execution_count": null,
   "id": "9136c5ba-08ff-4a51-9ff3-aff80fc17dc4",
   "metadata": {
    "jupyter": {
     "source_hidden": true
    },
    "tags": []
   },
   "outputs": [],
   "source": []
  },
  {
   "cell_type": "markdown",
   "id": "70c6887e-15a8-4e86-8a2b-cf42a16b637d",
   "metadata": {},
   "source": [
    "## **Projet : Dictionnaire**"
   ]
  },
  {
   "cell_type": "code",
   "execution_count": 249,
   "id": "a6c4d03b-dc49-452b-b29f-89522213308c",
   "metadata": {
    "tags": []
   },
   "outputs": [
    {
     "name": "stdout",
     "output_type": "stream",
     "text": [
      "clef: nom - valeur: Mélanie\n",
      "clef: age - valeur: 25\n",
      "clef: taille - valeur: 1.6\n"
     ]
    }
   ],
   "source": [
    "# --- PARTIE 1 ---\n",
    "\n",
    "personne = {'nom': 'Mélanie', \"age\": 25, \"taille\": 1.60}\n",
    "\n",
    "# print(personne)\n",
    "# print(personne['nom'])\n",
    "# print(personne['age'])\n",
    "# personne['nom'] = \"Claire\"\n",
    "# personne['poste'] = \"Développeur\"\n",
    "# achat = (\"Chocolat\", \"beurre\", \"fromage\")\n",
    "# personne['achats'] = achat\n",
    "# print(personne)\n",
    "\n",
    "for i in personne:\n",
    "    print(f\"clef: {i} - valeur: {personne[i]}\")"
   ]
  },
  {
   "cell_type": "code",
   "execution_count": null,
   "id": "af0ce314-7e2c-4296-8f2f-b21fb14d97a7",
   "metadata": {},
   "outputs": [],
   "source": [
    "# --- PARTIE 2 ---\n",
    "\n",
    "# noms age, taille\n",
    "\n",
    "personnes = [\n",
    "    (\"Mélanie\", 25, 1.6),\n",
    "    (\"Paul\", 29, 1.8),\n",
    "    (\"Jacques\", 35, 1.75),\n",
    "    (\"Martin\", 16, 1.65)\n",
    "]\n",
    "\n",
    "def obtenir_informations(nom, liste):\n",
    "    for i in liste:\n",
    "        if i[0] == nom:\n",
    "            return i\n",
    "    return None\n",
    "\n",
    "# Jacques\n",
    "infos = obtenir_informations(\"Jacques\", personnes)\n",
    "# print(infos)\n",
    "\n",
    "personnes_dict = {\n",
    "    \"Mélanie\": (25, 1.6),\n",
    "    \"Paul\": (29, 1.8),\n",
    "    \"Jacques\": (35, 1.75),\n",
    "    \"Martin\": (16, 1.65)\n",
    "}\n",
    "\n",
    "infos = personnes_dict.get(\"Martin\")\n",
    "if not infos:\n",
    "    print(\"La clef n'existe pas\")\n",
    "else:\n",
    "    print(infos)"
   ]
  },
  {
   "cell_type": "code",
   "execution_count": 371,
   "id": "fa4092b3-e754-45a7-a33c-5de717d3bb40",
   "metadata": {},
   "outputs": [],
   "source": [
    "def response(a):\n",
    "    rep = input(f\"\\nVotre réponce est entre 1 et {a} : \")\n",
    "    try: int(rep)\n",
    "    except: return response(a)\n",
    "    else:\n",
    "        if not 1 <= int(rep) <= a: return response(a)\n",
    "    return rep\n",
    "\n",
    "def poser_question(quest):\n",
    "    global score # atteindre la variable depuis le programme principal\n",
    "    print(f\"Question: Quelle est la capitale de {quest[0]} ?\\n\")\n",
    "    for i in range(len(quest[1])) : print(i+1,\")\",quest[1][i])\n",
    "    resp = response(len(quest[1]))\n",
    "    if quest[1][int(resp)-1].lower() == quest[-1].lower() : print(\"\\nBonne réponse\\n\"); score += 1\n",
    "    else:print(\"\\nMauvaise réponse\\n\");\n",
    "    \n",
    "def launch_question(a):\n",
    "    for i in a: poser_question(i)"
   ]
  },
  {
   "cell_type": "code",
   "execution_count": 378,
   "id": "e773324a-48b0-4203-b0b4-c7a140bb0571",
   "metadata": {
    "tags": []
   },
   "outputs": [
    {
     "name": "stdout",
     "output_type": "stream",
     "text": [
      "Question: Quelle est la capitale de Quelle est la capitale de la France ?\n",
      "\n",
      "1 ) Marseille\n",
      "2 ) Nice\n",
      "3 ) Paris\n",
      "4 ) Nantes\n"
     ]
    },
    {
     "name": "stdout",
     "output_type": "stream",
     "text": [
      "\n",
      "Votre réponce est entre 1 et 4 :  3\n"
     ]
    },
    {
     "name": "stdout",
     "output_type": "stream",
     "text": [
      "\n",
      "Bonne réponse\n",
      "\n",
      "Question: Quelle est la capitale de Quelle est la capitale du Benin ?\n",
      "\n",
      "1 ) Cotonou\n",
      "2 ) Porto-Novo\n",
      "3 ) Ouidah\n",
      "4 ) Parakou\n"
     ]
    },
    {
     "name": "stdout",
     "output_type": "stream",
     "text": [
      "\n",
      "Votre réponce est entre 1 et 4 :  2\n"
     ]
    },
    {
     "name": "stdout",
     "output_type": "stream",
     "text": [
      "\n",
      "Bonne réponse\n",
      "\n",
      "Question: Quelle est la capitale de Quelle est la capitale des USA ?\n",
      "\n",
      "1 ) Franscisco\n",
      "2 ) New-York\n",
      "3 ) Californie\n",
      "4 ) New-Jersey\n"
     ]
    },
    {
     "name": "stdout",
     "output_type": "stream",
     "text": [
      "\n",
      "Votre réponce est entre 1 et 4 :  2\n"
     ]
    },
    {
     "name": "stdout",
     "output_type": "stream",
     "text": [
      "\n",
      "Bonne réponse\n",
      "\n",
      "Question: Quelle est la capitale de Quelle est la capitale de l'Italie ?\n",
      "\n",
      "1 ) Rome\n",
      "2 ) Venise\n",
      "3 ) Milan\n",
      "4 ) Naples\n"
     ]
    },
    {
     "name": "stdout",
     "output_type": "stream",
     "text": [
      "\n",
      "Votre réponce est entre 1 et 4 :  1\n"
     ]
    },
    {
     "name": "stdout",
     "output_type": "stream",
     "text": [
      "\n",
      "Bonne réponse\n",
      "\n",
      "Votre score final : 4 sur 4\n"
     ]
    }
   ],
   "source": [
    "score = 0\n",
    "\n",
    "question1 = (\"Quelle est la capitale de la France\", (\"Marseille\", \"Nice\", \"Paris\",\"Nantes\"), \"Paris\")\n",
    "question2 = (\"Quelle est la capitale du Benin\", (\"Cotonou\", \"Porto-Novo\", \"Ouidah\",\"Parakou\"), \"Porto-Novo\")\n",
    "question3 = (\"Quelle est la capitale des USA\", (\"Franscisco\", \"New-York\", \"Californie\",\"New-Jersey\"), \"New-York\")\n",
    "question4 = (\"Quelle est la capitale de l'Italie\", (\"Rome\", \"Venise\", \"Milan\",\"Naples\"), \"Rome\")\n",
    "\n",
    "questionnaire = [question1, question2, question3, question4]\n",
    "\n",
    "launch_question(questionnaire)\n",
    "\n",
    "print(\"Votre score final :\", score, \"sur\", len(questionnaire))"
   ]
  },
  {
   "cell_type": "code",
   "execution_count": null,
   "id": "8618d6b0-024e-44af-9a69-3b7991f2b5d2",
   "metadata": {},
   "outputs": [],
   "source": []
  },
  {
   "cell_type": "code",
   "execution_count": null,
   "id": "4d5c7dbe-df1e-4a5a-abe1-d582c71f8975",
   "metadata": {},
   "outputs": [],
   "source": [
    "# LES COLLECTIONS : LISTES / TUPLES\n",
    "\n",
    "# Append / Extend / += / Insert\n",
    "\n",
    "noms = [\"Jean\", \"Sophie\", \"Martin\"]\n",
    "\n",
    "noms_supplementaires = [\"Christophe\", \"Zoe\"]\n",
    "\n",
    "noms.append(noms_supplementaires) ## ajout d'un seul élément\n",
    "\n",
    "for e in noms_supplementaires:\n",
    "   noms.append(e)\n",
    "\n",
    "noms.extend(noms_supplementaires)\n",
    "\n",
    "# noms += noms_supplementaires\n",
    "\n",
    "# noms = noms + noms_supplementaires\n",
    "\n",
    "noms.append(\"Toto\")\n",
    "\n",
    "noms.insert(1, \"Toto\")\n",
    "\n",
    "noms = noms + noms_supplementaires\n",
    "\n",
    "print(noms)"
   ]
  },
  {
   "cell_type": "code",
   "execution_count": null,
   "id": "f177d330-70e9-40b8-945a-9841d0e35e20",
   "metadata": {},
   "outputs": [],
   "source": [
    "# LES COLLECTIONS : LISTES / TUPLES\n",
    "\n",
    "# Slices permet une copie de la liste\n",
    "\n",
    "#          0        1        2           3           4\n",
    "noms = [\"Jean\", \"Sophie\", \"Martin\", \"Christophe\", \"Zoe\"]\n",
    "\n",
    "slices_noms = noms[-2:]\n",
    "\n",
    "#noms[0] = \"Toto\"\n",
    "\n",
    "print(slices_noms)\n",
    "#print(noms)"
   ]
  },
  {
   "cell_type": "code",
   "execution_count": 3,
   "id": "63f4dc4e-0312-4539-aafd-9150e305e68b",
   "metadata": {
    "tags": []
   },
   "outputs": [
    {
     "name": "stdout",
     "output_type": "stream",
     "text": [
      "['Jean', 'Sophie', 'Martin', 'Christophe', 'Zoe']\n",
      "['Christophe', 'Sophie', 'Martin', 'Jean', 'Zoe']\n"
     ]
    }
   ],
   "source": [
    "# LES COLLECTIONS : LISTES / TUPLES\n",
    "\n",
    "# Tris : Sort / Sorted\n",
    "\n",
    "def tri_longeur_caracteres(nom):\n",
    "    return len(nom)\n",
    "\n",
    "#          0        1        2           3           4\n",
    "noms = [\"Jean\", \"Sophie\", \"Martin\", \"Christophe\", \"Zoe\"]\n",
    "\n",
    "# tri par ordre alphabetique STR\n",
    "\n",
    "# du plus petit au plus grand INT\n",
    "\n",
    "#noms.sort(key=tri_longeur_caracteres, reverse=True)  # inplace (dans la liste originelle) \n",
    "\n",
    "noms_tries = sorted(noms, key= lambda x : len(x), reverse=True)\n",
    "\n",
    "# noms_tries = sorted(noms, key=tri_longeur_caracteres, reverse=True)  # créer une nouvelle liste\n",
    "\n",
    "print(noms)\n",
    "\n",
    "print(noms_tries)"
   ]
  },
  {
   "cell_type": "code",
   "execution_count": 5,
   "id": "4d01153d-daa1-4c5e-9525-3e9390b31b39",
   "metadata": {
    "tags": []
   },
   "outputs": [
    {
     "name": "stdout",
     "output_type": "stream",
     "text": [
      "Abscent\n",
      "118\n"
     ]
    }
   ],
   "source": [
    "# LES COLLECTIONS : LISTES / TUPLES\n",
    "# Operations sur les éléments : min, max, in, sum\n",
    "\n",
    "#          0        1        2           3           4\n",
    "noms = [\"Jean\", \"Sophie\", \"Martin\", \"Christophe\", \"Zoe\"]\n",
    "\n",
    "ages = [21, 20, 30, 25, 22]\n",
    "\n",
    "if 31 in ages: print(\"Présent\")\n",
    "\n",
    "else: print(\"Abscent\")\n",
    "\n",
    "# found = False\n",
    "\n",
    "# for nom in noms:\n",
    "#     if nom == \"Martin\":\n",
    "#         found = True\n",
    "#         break\n",
    "\n",
    "# if found:print(\"Présent\")\n",
    "\n",
    "# else:print(\"Abscent\")\n",
    "\n",
    "print(sum(ages))"
   ]
  },
  {
   "cell_type": "code",
   "execution_count": null,
   "id": "9bf7cd42-eb77-4174-beb2-422cf1286c9b",
   "metadata": {},
   "outputs": [],
   "source": [
    "# LES COLLECTIONS : LISTES / TUPLES\n",
    "\n",
    "# Swapper deux éléments (échanger)\n",
    "\n",
    "#          0        1        2           3           4\n",
    "noms = [\"Jean\", \"Sophie\", \"Martin\", \"Christophe\", \"Zoe\"]\n",
    "\n",
    "'''t = noms[0]  # Jean\n",
    "noms[0] = noms[4]  # Jean <- Zoe\n",
    "noms[4] = t'''\n",
    "\n",
    "#                     Zoe      Jean\n",
    "noms[0], noms[4] = noms[4], noms[0]\n",
    "\n",
    "print(noms)"
   ]
  },
  {
   "cell_type": "code",
   "execution_count": null,
   "id": "1af96106-1742-45ae-b420-8ada74370a66",
   "metadata": {},
   "outputs": [],
   "source": [
    "# LES COLLECTIONS : LISTES / TUPLES\n",
    "\n",
    "# join et split\n",
    "\n",
    "#          0        1        2           3           4\n",
    "noms = [\"Jean\", \"Sophie\", \"Martin\", \"Christophe\", \"Zoe\"]\n",
    "\n",
    "# Join : Rejoindre -> coller\n",
    "\n",
    "noms_join = \", \".join(noms)\n",
    "\n",
    "print(noms_join)\n",
    "\n",
    "# Split : Séparer\n",
    "# a = \"Paul-Marc-Emilie\"\n",
    "#a_split = a.split(\"-\")\n",
    "#print(a_split)\n",
    "\n",
    "noms_resconstruits = noms_join.split(\", \")\n",
    "\n",
    "print(noms_resconstruits)"
   ]
  },
  {
   "cell_type": "code",
   "execution_count": null,
   "id": "378ea82e-87e6-4896-b2d1-58121ba1d08d",
   "metadata": {},
   "outputs": [],
   "source": [
    "# LES COLLECTIONS : LISTES / TUPLES\n",
    "\n",
    "# index, find et count\n",
    "\n",
    "#          0        1        2           3           4      5\n",
    "noms = [\"Jean\", \"Sophie\", \"Martin\", \"Christophe\", \"Zoe\", \"Martin\"]\n",
    "\n",
    "\n",
    "element_cherche = \"Martin\"\n",
    "nb_occurences = noms.count(element_cherche)\n",
    "print(\"nb_occurences\", nb_occurences)\n",
    "if nb_occurences > 0:\n",
    "    index_occurence = 0\n",
    "    for i in range(nb_occurences):\n",
    "        index_occurence = noms.index(element_cherche, index_occurence)\n",
    "        print(element_cherche, \"trouvé à\", index_occurence)\n",
    "        index_occurence += 1\n",
    "else:\n",
    "    print(\"L'élément n'est pas dans la collection\")"
   ]
  },
  {
   "cell_type": "code",
   "execution_count": 7,
   "id": "0d786448-9f30-4476-9eb3-a0106a1b415c",
   "metadata": {
    "tags": []
   },
   "outputs": [
    {
     "name": "stdout",
     "output_type": "stream",
     "text": [
      "5\n"
     ]
    }
   ],
   "source": [
    "a = \"Jean-Martin-Toto\"\n",
    "\n",
    "i = a.find(\"Martin\")\n",
    "\n",
    "print(i)"
   ]
  },
  {
   "cell_type": "code",
   "execution_count": null,
   "id": "8211aa23-dd46-42fa-8a0d-96784594e7f5",
   "metadata": {},
   "outputs": [],
   "source": [
    "# LES COLLECTIONS : LISTES / TUPLES\n",
    "\n",
    "# Les compréhensions de listes\n",
    "\n",
    "#          0        1        2           3           4      5\n",
    "noms = [\"Jean\", \"Sophie\", \"Martin\", \"Christophe\", \"Zoe\", \"Martin\"]\n",
    "\n",
    "'''longeur_noms = []\n",
    "for nom in noms:\n",
    "    longeur_noms.append(len(nom))'''\n",
    "\n",
    "# longeur_noms = [len(nom) if len(nom) < 10 else 0 for nom in noms]\n",
    "\n",
    "# noms_avec_e = [nom for nom in noms if \"e\" in nom]\n",
    "\n",
    "#a = [i for i in range(11) if (i//2)*2 != i]\n",
    "\n",
    "b = [(i, True if (i//2)*2 == i else False) for i in range(11)]\n",
    "\n",
    "print(b)"
   ]
  },
  {
   "cell_type": "code",
   "execution_count": 11,
   "id": "b20c254c-8787-4e65-bb3d-0808c0f725af",
   "metadata": {
    "tags": []
   },
   "outputs": [
    {
     "name": "stdout",
     "output_type": "stream",
     "text": [
      "True\n",
      "True\n",
      "[False, False, False, False, True, False]\n"
     ]
    }
   ],
   "source": [
    "# LES COLLECTIONS : LISTES / TUPLES\n",
    "\n",
    "# Any et All\n",
    "\n",
    "# Any : Quelconque / n'importe quel\n",
    "\n",
    "# All : Tous\n",
    "\n",
    "#          0        1        2           3           4      5\n",
    "noms = [\"Jean\", \"Sophie\", \"Martin\", \"Christophe\", \"Zoe\", \"Martin\"]\n",
    "\n",
    "a = [True, True, True, True]\n",
    "print(any(a))\n",
    "print(all(a))\n",
    "\n",
    "\n",
    "'''found = False\n",
    "for nom in noms:\n",
    "    if \"z\" in nom.lower():\n",
    "        found = True\n",
    "        break\n",
    "\n",
    "if found:\n",
    "    print(\"Trouvé\")\n",
    "else:\n",
    "    print(\"Non trouvé\")'''\n",
    "\n",
    "noms_avec_z = [True if \"z\" in nom.lower() else False for nom in noms]\n",
    "\n",
    "print(noms_avec_z)"
   ]
  },
  {
   "cell_type": "code",
   "execution_count": null,
   "id": "115e09c0-0f06-43e3-a382-ae8940849a56",
   "metadata": {},
   "outputs": [],
   "source": [
    "# Tester si une chaine contient des chiffres\n",
    "\n",
    "# any / isdigit\n",
    "\n",
    "def chaine_contient_chiffre(chaine):\n",
    "    # for c in chaine:\n",
    "    #     if c.isdigit():\n",
    "    #         return True\n",
    "    # return False\n",
    "    return any([c.isdigit() for c in chaine])\n",
    "\n",
    "nom = input(\"Quel est ton nom ? \")\n",
    "if nom == \"\":\n",
    "    print(\"Le nom est vide\")\n",
    "elif chaine_contient_chiffre(nom):\n",
    "    print(\"Ce nom est invalide, il ne doit pas contenir de chiffres\")\n",
    "else:\n",
    "    print(\"Bonjour \" + nom)"
   ]
  },
  {
   "cell_type": "code",
   "execution_count": 21,
   "id": "13b723b6-e68a-4bfb-94b3-a1fe003c9853",
   "metadata": {
    "tags": []
   },
   "outputs": [
    {
     "name": "stdout",
     "output_type": "stream",
     "text": [
      "True\n",
      "True\n",
      "False\n"
     ]
    }
   ],
   "source": [
    "noms = [\"Jean\", \"Sophie\", \"Martin\", \"Christophe\", \"Zoe\", \"Martin\"]\n",
    "\n",
    "def elemnt_in_list(a, liste):\n",
    "    return any([True if a.lower() == elemnt.lower() else False for elemnt in liste])\n",
    "\n",
    "def elemnt_in_list2(a, liste):\n",
    "    return a.lower() in [elemnt.lower() for elemnt in liste]\n",
    "\n",
    "print(elemnt_in_list2(\"jean\", noms))\n",
    "\n",
    "print(elemnt_in_list2(\"mArtIn\", noms))\n",
    "\n",
    "print(elemnt_in_list(\"John\", noms))"
   ]
  },
  {
   "cell_type": "code",
   "execution_count": 83,
   "id": "f0b17e4e-f2f7-4a2e-bf7e-7776b7aed836",
   "metadata": {
    "tags": []
   },
   "outputs": [
    {
     "data": {
      "text/plain": [
       "[['notepad', 'exe'],\n",
       " ['mon', 'fichier', 'perso', 'doc'],\n",
       " ['notes', 'TXT'],\n",
       " ['vacances', 'jpeg'],\n",
       " ['planning'],\n",
       " ['data', 'dat']]"
      ]
     },
     "execution_count": 83,
     "metadata": {},
     "output_type": "execute_result"
    }
   ],
   "source": [
    "[elemnt.split(\".\") for elemnt in fichiers]"
   ]
  },
  {
   "cell_type": "code",
   "execution_count": 99,
   "id": "39be764a-fa2e-4509-96f6-a3e705351d9c",
   "metadata": {
    "tags": []
   },
   "outputs": [
    {
     "name": "stdout",
     "output_type": "stream",
     "text": [
      "notepad.exe (Executable)\n",
      "mon.fichier.perso.doc (Document Word)\n",
      "notes.TXT (Document Texte)\n",
      "vacances.jpeg (Image JPEG)\n",
      "planning (Aucune Extension)\n",
      "data.dat (Extension non connue)\n"
     ]
    }
   ],
   "source": [
    "fichiers = (\"notepad.exe\", \"mon.fichier.perso.doc\", \"notes.TXT\", \"vacances.jpeg\", \n",
    "            \"planning\", \"data.dat\")\n",
    "\n",
    "\n",
    "def_ext = ((\"doc\",\"Document Word\"),(\"exe\", \"Executable\"), \n",
    "           (\"txt\",\"Document Texte\"), (\"jpeg\", \"Image JPEG\"))\n",
    "           \n",
    "dic = {}         \n",
    "           \n",
    "for a, b in def_ext: dic[a] = b\n",
    "\n",
    "for elmt in fichiers : \n",
    "    a = elmt.split(\".\")\n",
    "    if len(a) >= 2:\n",
    "        a = a[-1]\n",
    "        b = [a for a, _ in def_ext]\n",
    "        if a.lower() in b: i = b.index(a.lower()); print(f\"{elmt} ({def_ext[i][1]})\")\n",
    "        else : print(f\"{elmt} (Extension non connue)\")\n",
    "    else : print(f\"{elmt} (Aucune Extension)\")  \n",
    "        \n",
    "# dic.get(key.lower())"
   ]
  },
  {
   "cell_type": "code",
   "execution_count": null,
   "id": "0843f456-ad91-4733-a610-30a37a4f0f6a",
   "metadata": {},
   "outputs": [],
   "source": []
  },
  {
   "cell_type": "code",
   "execution_count": 117,
   "id": "2e8ea289-0b89-437f-882a-17d20380c234",
   "metadata": {
    "tags": []
   },
   "outputs": [
    {
     "name": "stdout",
     "output_type": "stream",
     "text": [
      "35\n",
      "35\n"
     ]
    },
    {
     "data": {
      "text/plain": [
       "35"
      ]
     },
     "execution_count": 117,
     "metadata": {},
     "output_type": "execute_result"
    }
   ],
   "source": [
    "noms = [\"Jean\", \"Sophie\", \"Martin\", \"Christophe\", \"Zoe\", \"Martin\"]\n",
    "\n",
    "s = 0\n",
    "\n",
    "for nom in noms : s +=len(nom);\n",
    "\n",
    "print(s)\n",
    "\n",
    "print(sum([len(nom) for nom in noms]))\n",
    "\n",
    "len(\"\".join(noms)) # Joindre les éléments de la liste sans spécification"
   ]
  },
  {
   "cell_type": "code",
   "execution_count": 136,
   "id": "b5cc55dc-4d11-4efc-bb73-43d1444f3e5b",
   "metadata": {
    "tags": []
   },
   "outputs": [],
   "source": [
    "pizzas = (\"4 fromages\", \"Végétarienne\", \"Hawaï\", \"Calzone\")\n",
    "\n",
    "pizzas_prix = (10.5, 11, 18, 9)\n",
    "\n",
    "nom_prix = list(zip(pizzas, pizzas_prix))\n",
    "\n",
    "# print(nom_prix)\n",
    "\n",
    "# for (nom, prix) in zip(pizzas, pizzas_prix):\n",
    "#     print(f\"{nom}--{prix}$\")\n",
    "   \n",
    "unzipped = list(zip(*nom_prix)) \n",
    "\n",
    "# _ , _ = list(zip(*nom_prix)"
   ]
  },
  {
   "cell_type": "code",
   "execution_count": 138,
   "id": "57b7b989-e245-43d3-a130-44e8cad9076a",
   "metadata": {
    "tags": []
   },
   "outputs": [
    {
     "name": "stdout",
     "output_type": "stream",
     "text": [
      "{'Emilie', 'Marie', 'Marc', 'Jean', 'Paul'}\n"
     ]
    }
   ],
   "source": [
    "# Collections : Le Set\n",
    "\n",
    "noms = [\"Marie\", \"Paul\", \"Jean\", \"Marc\", \"Emilie\", \"Marie\"]\n",
    "\n",
    "# noms_sans_doublons = list(set(noms))\n",
    "\n",
    "# print(noms_sans_doublons)\n",
    "\n",
    "# print(noms_sans_doublons[0])\n",
    "\n",
    "set_noms = { \"Marie\", \"Paul\", \"Jean\", \"Marc\", \"Emilie\", \"Marie\" }\n",
    "\n",
    "print(set_noms)\n",
    "\n",
    "# for s in set_noms:\n",
    "#     print(s)"
   ]
  },
  {
   "cell_type": "code",
   "execution_count": null,
   "id": "6f6ea4dd-5897-44e8-b094-efe6ca1bb09f",
   "metadata": {
    "jupyter": {
     "source_hidden": true
    },
    "tags": []
   },
   "outputs": [],
   "source": []
  },
  {
   "cell_type": "markdown",
   "id": "89345a31-c43b-4526-b490-a121922be80a",
   "metadata": {},
   "source": [
    "## **Programmation Oriéntée Objet (POO)**"
   ]
  },
  {
   "cell_type": "code",
   "execution_count": null,
   "id": "43b75032-789f-4c91-acbd-8f7cac85f99a",
   "metadata": {},
   "outputs": [],
   "source": [
    "# VOS PREMIERS PAS EN POO (PROGRAMMATION ORIENTÉE OBJET)\n",
    "\n",
    "###\n",
    "# - Différence programmation impérative / objet\n",
    "# - Le plus simple possible\n",
    "# - Exercices, mises en situation\n",
    "\n",
    "# Personne  (entité -> class)\n",
    "#    Données : nom, age\n",
    "#    Actions :  (méthodes)\n",
    "#       - SePresenter()\n",
    "#       - DemanderNom() / input\n",
    "#  [Personne \"Jean\"]     [Personne \"Paul\"]\n",
    "\n",
    "def afficher_informations_personne(nom, age):\n",
    "    print(f\"La personne s'appelle {nom}, son age est {age} ans\")\n",
    "\n",
    "def demanger_nom_personne():\n",
    "    nom = input(\"Quel est votre nom ?\")\n",
    "    return nom\n",
    "\n",
    "nom1 = \"Jean\"\n",
    "age1 = 30\n",
    "\n",
    "nom2 = \"Paul\"\n",
    "age2 = 25\n",
    "\n",
    "afficher_informations_personne(nom1, age1)\n",
    "afficher_informations_personne(nom2, age2)\n",
    "\n",
    "nom3 = demanger_nom_personne()\n",
    "age3 = 18\n",
    "afficher_informations_personne(nom3, age3)"
   ]
  },
  {
   "cell_type": "code",
   "execution_count": 69,
   "id": "283f3d14-3a83-43ab-852a-66a96124b1f0",
   "metadata": {
    "tags": []
   },
   "outputs": [
    {
     "name": "stdout",
     "output_type": "stream",
     "text": [
      "Nom de la personne :  John\n"
     ]
    },
    {
     "name": "stdout",
     "output_type": "stream",
     "text": [
      "\n",
      "Bonjour, je m'appelle Jean. \n",
      "\n",
      "Bonjour, je m'appelle Paul. J'ai 15 ans.\n",
      "\n",
      "Je suis mineur.\n",
      "\n",
      "Bonjour, je m'appelle John. \n"
     ]
    }
   ],
   "source": [
    "# VOS PREMIERS PAS EN POO (PROGRAMMATION ORIENTÉE OBJET\n",
    "\n",
    "# - Différence programmation impérative / objet\n",
    "# - Le plus simple possible\n",
    "# - Exercices, mises en situation\n",
    "\n",
    "# Personne  (entité -> class)\n",
    "#    Données : nom, age\n",
    "#    Actions :  (méthodes)\n",
    "#       - SePresenter()\n",
    "#       - DemanderNom() / input\n",
    "#  [Personne \"Jean\"]     [Personne \"Paul\"]\n",
    "\n",
    "\n",
    "# --- DEFINITION ---\n",
    "\n",
    "class Personne:\n",
    "    \n",
    "    def __init__(self, nom:str = \"\", age:int = 0): # Constructeur\n",
    "        \n",
    "        if nom == \"\": nom = input(\"Nom de la personne : \")\n",
    "        \n",
    "        self.nom = nom   # crée une variable d'instance : nom\n",
    "        \n",
    "        self.age = age \n",
    "        \n",
    "        # print(\"Constructeur personne \" + nom)\n",
    "\n",
    "    def SePresenter(self):\n",
    "       \n",
    "        print(f\"\\nBonjour, je m'appelle {self.nom}.\" , \"\" if self.age == 0 else f\"J'ai {self.age} ans.\\n\\nJe suis {'majeur' if self.EstMajeur() else 'mineur'}.\" ) \n",
    "        \n",
    "    def EstMajeur(self):\n",
    "        return True if self.age >= 18 else False\n",
    "    \n",
    "    def DemanderNom(self):\n",
    "        self.nom = input(\"Nom de la personne : \")\n",
    "\n",
    "\n",
    "# --- UTILISATION ---\n",
    "\n",
    "personne1 = Personne(\"Jean\", 0)   # Je cree une personne\n",
    "personne2 = Personne(\"Paul\", 15)  # Je cree une personne\n",
    "personne3 = Personne()\n",
    "\n",
    "# personne1.nom = \"toto\" ## Altérer ou changer le nom de la personne1\n",
    "\n",
    "# Personne.SePresenter(personne1)\n",
    "\n",
    "personne1.SePresenter()\n",
    "personne2.SePresenter()  # méthode d'instance\n",
    "personne3.SePresenter()  \n",
    "\n",
    "# print(f\"EstMajeur : {personne1.EstMajeur()}\" )"
   ]
  },
  {
   "cell_type": "code",
   "execution_count": null,
   "id": "9e135634-a6a2-422d-a10c-a94748b647bc",
   "metadata": {},
   "outputs": [],
   "source": [
    "def afficher_informations_personne(nom, age):\n",
    "    print(f\"La personne s'appelle {nom}, son age est {age} ans\")\n",
    "\n",
    "def demanger_nom_personne():\n",
    "    nom = input(\"Quel est votre nom ?\")\n",
    "    return nom\n",
    "\n",
    "nom1 = \"Jean\"\n",
    "age1 = 30\n",
    "\n",
    "nom2 = \"Paul\"\n",
    "age2 = 25\n",
    "\n",
    "afficher_informations_personne(nom1, age1)\n",
    "afficher_informations_personne(nom2, age2)\n",
    "\n",
    "nom3 = demanger_nom_personne()\n",
    "age3 = 18\n",
    "afficher_informations_personne(nom3, age3)"
   ]
  },
  {
   "cell_type": "code",
   "execution_count": 15,
   "id": "3b724d9f-e350-4a22-af06-91e65e336c00",
   "metadata": {
    "tags": []
   },
   "outputs": [
    {
     "name": "stdout",
     "output_type": "stream",
     "text": [
      "Constructeur personne Jean\n",
      "Bonjour, je m'appelle Jean, j'ai 25 ans\n",
      "Genre : Masculin\n",
      "Je suis majeure\n",
      "\n",
      "Constructeur personne Emilie\n",
      "Bonjour, je m'appelle Emilie, j'ai 17 ans\n",
      "Genre : Feminin\n",
      "Je suis mineure\n",
      "\n"
     ]
    }
   ],
   "source": [
    "# POO EXERCICE DE MISE EN SITUATION 1\n",
    "# genre\n",
    "#   False : Femme\n",
    "#   True  : Homme\n",
    "\n",
    "class Personne:\n",
    "    def __init__(self, nom: str, age: int, genre: bool  = False):\n",
    "        \n",
    "        self.nom = nom   # crée une variable d'instance : nom\n",
    "        self.age = age\n",
    "        self.genre = genre\n",
    "        print(\"Constructeur personne \" + self.nom)\n",
    "\n",
    "    def SePresenter(self):\n",
    "        \n",
    "        if self.genre:\n",
    "            print(\"Bonjour, je m'appelle \" + self.nom + \", j'ai \" + str(self.age) + \" ans\")\n",
    "            print(\"Genre : Masculin\")\n",
    "            if self.EstMajeur():\n",
    "                print(\"Je suis majeur\")\n",
    "            else:\n",
    "                print(\"Je suis mineur\")\n",
    "            print()\n",
    "        else:\n",
    "            print(\"Bonjour, je m'appelle \" + self.nom + \", j'ai \" + str(self.age) + \" ans\")\n",
    "            print(\"Genre : Feminin\")\n",
    "            if self.EstMajeur():\n",
    "                print(\"Je suis majeure\")\n",
    "            else:\n",
    "                print(\"Je suis mineure\")\n",
    "            print()\n",
    "            \n",
    "    def SePresenter2(self):\n",
    "        \n",
    "        print(\"Bonjour, je m'appelle \" + self.nom + \", j'ai \" + str(self.age) + \" ans\")\n",
    "        print(\"Genre : Masculin\") if self.genre else print(\"Genre : Feminin\")\n",
    "        print(\"Je suis majeure\\n\") if self.EstMajeur() else print(\"Je suis mineure\\n\")\n",
    "\n",
    "    def EstMajeur(self):\n",
    "        return self.age >= 18\n",
    "\n",
    "personne1 = Personne(\"Jean\", 25, True)\n",
    "personne1.SePresenter2()\n",
    "\n",
    "personne2 = Personne(\"Emilie\", 17)\n",
    "personne2.SePresenter2()"
   ]
  },
  {
   "cell_type": "code",
   "execution_count": 27,
   "id": "32cbd0a4-c820-4620-a442-43e525c8a9fa",
   "metadata": {
    "tags": []
   },
   "outputs": [
    {
     "name": "stdout",
     "output_type": "stream",
     "text": [
      "Constructeur personne Jean\n",
      "Constructeur personne Emilie\n",
      "\n",
      "Bonjour, je m'appelle Jean, j'ai 25 ans\n",
      "Genre : Masculin\n",
      "Je suis majeure\n",
      "\n",
      "Bonjour, je m'appelle Emilie, j'ai 17 ans\n",
      "Genre : Feminin\n",
      "Je suis mineure\n"
     ]
    }
   ],
   "source": [
    "class Personne:\n",
    "    \n",
    "    def __init__(self, nom:str, age:int = 0, genre:bool = False):\n",
    "        \n",
    "        self.nom, self.age, self.genre = nom, age, genre\n",
    "        \n",
    "        print(\"Constructeur personne \" + self.nom)\n",
    "    \n",
    "    def SePresenter2(self):\n",
    "        \n",
    "        print(\"\\nBonjour, je m'appelle \" + self.nom + \", j'ai \" + str(self.age) + \" ans\")\n",
    "        print(\"Genre : Masculin\") if self.genre else print(\"Genre : Feminin\")\n",
    "        print(\"Je suis majeure\") if self.EstMajeur() else print(\"Je suis mineure\")\n",
    "\n",
    "    def EstMajeur(self):\n",
    "        return self.age >= 18\n",
    "    \n",
    "personne1, personne2 = Personne(\"Jean\", 25, True), Personne(\"Emilie\", 17)\n",
    "personne1.SePresenter2()\n",
    "personne2.SePresenter2()"
   ]
  },
  {
   "cell_type": "code",
   "execution_count": 41,
   "id": "c22da70b-c609-4015-bc87-d374f457011d",
   "metadata": {
    "tags": []
   },
   "outputs": [
    {
     "name": "stdout",
     "output_type": "stream",
     "text": [
      "Constructeur personne Jean\n",
      "Bonjour, je m'appelle Jean, j'ai 25 ans\n",
      "Je suis majeur\n",
      "\n",
      "Constructeur personne Emilie\n",
      "Bonjour, je m'appelle Emilie, j'ai 17 ans\n",
      "Je suis mineur\n",
      "\n"
     ]
    }
   ],
   "source": [
    "# POO EXERCICE DE MISE EN SITUATION 2\n",
    "\n",
    "class Personne:\n",
    "    def __init__(self, nom: str, age: int):\n",
    "        self.nom = nom   # crée une variable d'instance : nom\n",
    "        self.age = age\n",
    "        print(\"Constructeur personne \" + self.nom)\n",
    "\n",
    "    def SePresenter(self):\n",
    "        # Bonjour, je m'appelle Jean, j'ai 30 ans\n",
    "        # Je suis majeur\n",
    "        print(\"Bonjour, je m'appelle \" + self.nom + \", j'ai \" + str(self.age) + \" ans\")\n",
    "        if self.EstMajeur():\n",
    "            print(\"Je suis majeur\")\n",
    "        else:\n",
    "            print(\"Je suis mineur\")\n",
    "        print()\n",
    "\n",
    "    def EstMajeur(self):\n",
    "        return self.age >= 18\n",
    "\n",
    "personne1 = Personne(\"Jean\", 25)\n",
    "personne1.SePresenter()\n",
    "\n",
    "personne1 = Personne(\"Emilie\", 17)\n",
    "personne1.SePresenter()"
   ]
  },
  {
   "cell_type": "code",
   "execution_count": 64,
   "id": "61cf6b08-5fdd-4f30-a199-0759d0fa43d9",
   "metadata": {
    "tags": []
   },
   "outputs": [
    {
     "name": "stdout",
     "output_type": "stream",
     "text": [
      "Bonjour, je suis un chat et je m'appelle inconnu\n",
      "Bonjour, je suis un chat et je m'appelle Garfield\n",
      "Bonjour, je suis une personne et je m'appelle Jean\n"
     ]
    }
   ],
   "source": [
    "# POO EXERCICE DE MISE EN SITUATION 3\n",
    "\n",
    "# -------\n",
    "class Chat:\n",
    "    def __init__(self, nom_facultatif=\"inconnu\"):\n",
    "        self.nom = nom_facultatif\n",
    "\n",
    "    def SePresenter(self):\n",
    "        print(\"Bonjour, je suis un chat et je m'appelle \" + self.nom)\n",
    "\n",
    "# ---\n",
    "class Personne:\n",
    "    def __init__(self, nom: str):\n",
    "        self.nom = nom\n",
    "\n",
    "    def SePresenter(self):\n",
    "        print(\"Bonjour, je suis une personne et je m'appelle \" + self.nom)\n",
    "\n",
    "# ---\n",
    "chat1 = Chat()\n",
    "chat1.SePresenter()  # Bonjour, je suis un chat et je m'appelle inconnu\n",
    "\n",
    "chat2 = Chat(\"Garfield\")\n",
    "chat2.SePresenter()  # Bonjour, je suis un chat et je m'appelle Garfield\n",
    "\n",
    "personne = Personne(\"Jean\")\n",
    "personne.SePresenter()  # Bonjour, je suis une personne et je m'appelle Jean"
   ]
  },
  {
   "cell_type": "code",
   "execution_count": null,
   "id": "e1a441d4-a824-4300-81db-789e77442b33",
   "metadata": {},
   "outputs": [],
   "source": []
  },
  {
   "cell_type": "code",
   "execution_count": 68,
   "id": "441e503e-6b8d-4f05-bbd5-0b1b5fe7ef84",
   "metadata": {
    "tags": []
   },
   "outputs": [
    {
     "name": "stdout",
     "output_type": "stream",
     "text": [
      "Constructeur personne Jean\n",
      "Constructeur personne Paul\n"
     ]
    },
    {
     "name": "stdout",
     "output_type": "stream",
     "text": [
      "Nom de la personne :  John\n"
     ]
    },
    {
     "name": "stdout",
     "output_type": "stream",
     "text": [
      "Constructeur personne John\n",
      "Bonjour, je m'appelle Paul, j'ai 15 ans\n",
      "Je suis mineur\n"
     ]
    }
   ],
   "source": [
    "##\n",
    "# VOS PREMIERS PAS EN POO (PROGRAMMATION ORIENTÉE OBJET)\n",
    "###\n",
    "# - Différence programmation impérative / objet\n",
    "# - Le plus simple possible\n",
    "# - Exercices, mises en situation\n",
    "\n",
    "# Personne  (entité -> class)\n",
    "#    Données : nom, age\n",
    "#    Actions :  (méthodes)\n",
    "#       - SePresenter()\n",
    "#       - DemanderNom() / input\n",
    "#  [Personne \"Jean\"]     [Personne \"Paul\"]\n",
    "\n",
    "\n",
    "# --- DEFINITION ---\n",
    "# nom : str\n",
    "# age : int\n",
    "# 1 - Si age == 0 \n",
    "#   => Bonjour, je m'appelle Toto\n",
    "#   => On affiche pas mineur\n",
    "# 2 - Si nom == \"\"\n",
    "#   => Demander nom à l'utilisateur\n",
    "#   => DemanderNom(...) -> input(\"\") -> nom\n",
    "\n",
    "class Personne:\n",
    "    def __init__(self, nom: str = \"\", age: int = 0):\n",
    "        self.nom = nom   # crée une variable d'instance : nom\n",
    "        self.age = age\n",
    "        if nom == \"\":self.DemanderNom()\n",
    "        print(\"Constructeur personne \" + self.nom)\n",
    "\n",
    "    def SePresenter(self):\n",
    "        # Bonjour, je m'appelle Jean, j'ai 30 ans\n",
    "        # Je suis majeur\n",
    "        info_personne = \"Bonjour, je m'appelle \" + self.nom\n",
    "        if self.age != 0:\n",
    "            info_personne += \", j'ai \" + str(self.age) + \" ans\"\n",
    "\n",
    "        print(info_personne)\n",
    "\n",
    "        if self.age != 0:\n",
    "            if self.EstMajeur():\n",
    "                print(\"Je suis majeur\")\n",
    "            else:\n",
    "                print(\"Je suis mineur\")\n",
    "\n",
    "    def EstMajeur(self):\n",
    "        return self.age >= 18\n",
    "\n",
    "    def DemanderNom(self):\n",
    "        self.nom = input(\"Nom de la personne : \")\n",
    "\n",
    "\n",
    "# --- UTILISATION ---\n",
    "# personne1 = Personne(\"Jean\", 30)   # Je cree une personne\n",
    "# personne2 = Personne(\"Paul\", 15)   # Je cree une personne\n",
    "\n",
    "liste_personnes = (Personne(\"Jean\", 30), Personne(\"Paul\", 15), Personne())\n",
    "# liste_personnes[1].SePresenter()\n",
    "\n",
    "print(\"Affichage liste 1\")\n",
    "for personne in liste_personnes:\n",
    "    personne.SePresenter()\n",
    "\n",
    "# personne3 = Personne()\n",
    "personne4 = Personne(age=20)\n",
    "liste_personnes.append(personne4)\n",
    "\n",
    "print(\"Affichage liste 2\")\n",
    "for personne in liste_personnes:\n",
    "    personne.SePresenter()\n",
    "\n",
    "# personne3 = Personne()\n",
    "# personne4 = Personne(age=20)\n",
    "\n",
    "# Personne.SePresenter(personne1)\n",
    "# personne1.SePresenter()\n",
    "# personne2.SePresenter()  # méthode d'instance\n",
    "# personne3.SePresenter()\n",
    "# personne4.SePresenter()\n",
    "\n",
    "# print(\"estMajeur2 : \", personne2.EstMajeur())\n",
    "\n",
    "# print(\"nom1: \" + personne1.nom)\n",
    "\n",
    "# def afficher_informations_personne(nom, age):\n",
    "#     print(f\"La personne s'appelle {nom}, son age est {age} ans\")\n",
    "\n",
    "# def demanger_nom_personne():\n",
    "#     nom = input(\"Quel est votre nom ?\")\n",
    "#     return nom\n",
    "\n",
    "# nom1 = \"Jean\"\n",
    "# age1 = 30\n",
    "\n",
    "# nom2 = \"Paul\"\n",
    "# age2 = 25\n",
    "\n",
    "# afficher_informations_personne(nom1, age1)\n",
    "# afficher_informations_personne(nom2, age2)\n",
    "\n",
    "# nom3 = demanger_nom_personne()\n",
    "# age3 = 18\n",
    "# afficher_informations_personne(nom3, age3)"
   ]
  },
  {
   "cell_type": "code",
   "execution_count": 88,
   "id": "8d413098-d495-4ce5-a9c1-a035acc3e4fc",
   "metadata": {
    "tags": []
   },
   "outputs": [
    {
     "name": "stdout",
     "output_type": "stream",
     "text": [
      "nom de la personne 1 :  a\n",
      "nom de la personne 2 :  b\n",
      "nom de la personne 3 :  c\n"
     ]
    },
    {
     "name": "stdout",
     "output_type": "stream",
     "text": [
      "Bonjour, je m'appelle a\n",
      "Bonjour, je m'appelle b\n",
      "Bonjour, je m'appelle c\n"
     ]
    }
   ],
   "source": [
    "# POO EXERCICE DE MISE EN SITUATION 4\n",
    "\n",
    "# ---\n",
    "class Personne:\n",
    "    def __init__(self, nom: str):\n",
    "        self.nom = nom\n",
    "\n",
    "    def SePresenter(self):\n",
    "        print(\"Bonjour, je m'appelle \" + self.nom)\n",
    "\n",
    "# ---\n",
    "noms = [input(f\"nom de la personne {i} : \") for i in range (1,4)]\n",
    "\n",
    "liste_personnes = [Personne(nom) for nom in noms]\n",
    "\n",
    "for person in liste_personnes: person.SePresenter()"
   ]
  },
  {
   "cell_type": "markdown",
   "id": "81048f41-59b5-4e20-8a24-c3064f376042",
   "metadata": {},
   "source": [
    "### **Variable classe**"
   ]
  },
  {
   "cell_type": "code",
   "execution_count": null,
   "id": "97b44ed8-41d9-4431-8c95-4382b4e3e4c1",
   "metadata": {},
   "outputs": [],
   "source": [
    "###\n",
    "# VOS PREMIERS PAS EN POO (PROGRAMMATION ORIENTÉE OBJET)\n",
    "###\n",
    "# - Différence programmation impérative / objet\n",
    "# - Le plus simple possible\n",
    "# - Exercices, mises en situation\n",
    "\n",
    "# Personne  (entité -> class)\n",
    "#    Données : nom, age\n",
    "#    Actions :  (méthodes)\n",
    "#       - SePresenter()\n",
    "#       - DemanderNom() / input\n",
    "#  [Personne \"Jean\"]     [Personne \"Paul\"]\n",
    "\n",
    "class Personne:\n",
    "    ESPECE_ETRE_VIVANT = \"Humain (Mammifère Homo sapiens)\"   # variable de classe (1 pour toutes les Personnes)\n",
    "\n",
    "    # Constructeur\n",
    "    \n",
    "    def __init__(self, nom: str = \"\", age: int = 0):\n",
    "        \n",
    "        self.nom = nom   # crée une variable d'instance : nom\n",
    "        self.age = age\n",
    "        if nom == \"\":\n",
    "            self.DemanderNom()\n",
    "        print(\"Constructeur personne \" + self.nom)\n",
    "        \n",
    "     # Fonctions   \n",
    "\n",
    "    def SePresenter(self):\n",
    "        # Bonjour, je m'appelle Jean, j'ai 30 ans\n",
    "        # Je suis majeur\n",
    "        info_personne = \"Bonjour, je m'appelle \" + self.nom\n",
    "        if self.age != 0:\n",
    "            info_personne += \", j'ai \" + str(self.age) + \" ans\"\n",
    "\n",
    "        print(info_personne)\n",
    "\n",
    "        if self.age != 0:\n",
    "            if self.EstMajeur():\n",
    "                print(\"Je suis majeur\")\n",
    "            else:\n",
    "                print(\"Je suis mineur\")\n",
    "\n",
    "    def EstMajeur(self):\n",
    "        return self.age >= 18\n",
    "\n",
    "    def DemanderNom(self):\n",
    "        self.nom = input(\"Nom de la personne : \")\n",
    "\n",
    "    def AfficherInfosEtreVivant(self):\n",
    "        print(\"Info être vivant : \" + Personne.ESPECE_ETRE_VIVANT)\n",
    "\n",
    "\n",
    "# --- UTILISATION ---\n",
    "liste_personnes = [Personne(\"Jean\", 30), \n",
    "                   Personne(\"Paul\", 15),\n",
    "                   Personne(\"Zoe\", 20)]\n",
    "\n",
    "# Personne.ESPECE_ETRE_VIVANT = \"Mutant\"\n",
    "\n",
    "for personne in liste_personnes:\n",
    "    personne.SePresenter()\n",
    "    personne.AfficherInfosEtreVivant()\n",
    "    print()\n",
    "\n",
    "# Personne\n",
    "#       -> Personne.espece_etre_vivant\n",
    "#    personne1\n",
    "#       -> self.espece_etre_vivant (copie de la variable de classe pour en faire une variable d'instance)\n",
    "#    personne2\n",
    "#       -> self.espece_etre_vivant\n",
    "#    personne3\n",
    "#       -> self.espece_etre_vivant"
   ]
  },
  {
   "cell_type": "markdown",
   "id": "a98ef0b7-1f43-4709-b8c0-993579bbad84",
   "metadata": {},
   "source": [
    "### **Héritages**"
   ]
  },
  {
   "cell_type": "code",
   "execution_count": null,
   "id": "c996f5b3-d28b-419f-9f21-25f39d78e6c6",
   "metadata": {},
   "outputs": [],
   "source": [
    "###\n",
    "# VOS PREMIERS PAS EN POO (PROGRAMMATION ORIENTÉE OBJET)\n",
    "###\n",
    "# - Différence programmation impérative / objet\n",
    "# - Le plus simple possible\n",
    "# - Exercices, mises en situation\n",
    "\n",
    "# Personne  (entité -> class)\n",
    "#    Données : nom, age\n",
    "#    Actions :  (méthodes)\n",
    "#       - SePresenter()\n",
    "#       - DemanderNom() / input\n",
    "#  [Personne \"Jean\"]     [Personne \"Paul\"]\n",
    "\n",
    "\n",
    "#          EtreVivant            ## Classe parent\n",
    "#      Chat         Personne     ## Classes enfant (classes dérivées)\n",
    "class EtreVivant:\n",
    "    ESPECE_ETRE_VIVANT = \"(être vivant non identifié)\"\n",
    "\n",
    "    def AfficherInfosEtreVivant(self):\n",
    "        print(\"Info être vivant : \" + self.ESPECE_ETRE_VIVANT)\n",
    "\n",
    "class Chat(EtreVivant):\n",
    "    ESPECE_ETRE_VIVANT = \"Chat (Mammifère félin)\"\n",
    "\n",
    "class Personne(EtreVivant):\n",
    "    ESPECE_ETRE_VIVANT = \"Humain (Mammifère Homo sapiens)\"   # variable de classe (1 pour toutes les Personnes)\n",
    "\n",
    "    def __init__(self, nom: str = \"\", age: int = 0):\n",
    "        self.nom = nom   # crée une variable d'instance : nom\n",
    "        self.age = age\n",
    "        if nom == \"\":\n",
    "            self.DemanderNom()\n",
    "        print(\"Constructeur personne \" + self.nom)\n",
    "\n",
    "    def SePresenter(self):\n",
    "        # Bonjour, je m'appelle Jean, j'ai 30 ans\n",
    "        # Je suis majeur\n",
    "        info_personne = \"Bonjour, je m'appelle \" + self.nom\n",
    "        if self.age != 0:\n",
    "            info_personne += \", j'ai \" + str(self.age) + \" ans\"\n",
    "\n",
    "        print(info_personne)\n",
    "\n",
    "        if self.age != 0:\n",
    "            if self.EstMajeur():\n",
    "                print(\"Je suis majeur\")\n",
    "            else:\n",
    "                print(\"Je suis mineur\")\n",
    "\n",
    "    def EstMajeur(self):\n",
    "        return self.age >= 18\n",
    "\n",
    "    def DemanderNom(self):\n",
    "        self.nom = input(\"Nom de la personne : \")\n",
    "\n",
    "# EtreVivant\n",
    "# Personne\n",
    "# Etudiant\n",
    "class Etudiant(Personne):\n",
    "    def __init__(self, nom: str, age: int, etudes: str):\n",
    "        # self.nom = nom   # crée une variable d'instance : nom\n",
    "        # self.age = age\n",
    "        super().__init__(nom, age)\n",
    "        self.etudes = etudes\n",
    "\n",
    "    def SePresenter(self):  # surchargé la méthode SePresenter\n",
    "        super().SePresenter()\n",
    "        print(\"Je suis etudiant en \" + self.etudes)\n",
    "\n",
    "# --- UTILISATION ---\n",
    "liste_personnes = [Personne(\"Jean\", 30), \n",
    "                   Personne(\"Paul\", 15),\n",
    "                   Personne(\"Zoe\", 20)]\n",
    "\n",
    "# Personne.ESPECE_ETRE_VIVANT = \"Mutant\"\n",
    "\n",
    "for personne in liste_personnes:\n",
    "    personne.SePresenter()\n",
    "    personne.AfficherInfosEtreVivant()\n",
    "    print()\n",
    "\n",
    "chat = Chat()\n",
    "chat.AfficherInfosEtreVivant()\n",
    "\n",
    "etreVivant = EtreVivant()\n",
    "etreVivant.AfficherInfosEtreVivant()\n",
    "\n",
    "etudiant = Etudiant(\"Marc\", 22, \"Ecole d'ingénieur informatique\")\n",
    "etudiant.SePresenter()\n",
    "etudiant.AfficherInfosEtreVivant()\n",
    "\n",
    "# Personne\n",
    "#       -> Personne.espece_etre_vivant\n",
    "#    personne1\n",
    "#       -> self.espece_etre_vivant (copie de la variable de classe pour en faire une variable d'instance)\n",
    "#    personne2\n",
    "#       -> self.espece_etre_vivant\n",
    "#    personne3\n",
    "#       -> self.espece_etre_vivant"
   ]
  },
  {
   "cell_type": "code",
   "execution_count": null,
   "id": "b9b80d49",
   "metadata": {},
   "outputs": [
    {
     "name": "stdout",
     "output_type": "stream",
     "text": [
      "PIZZA 4 saisons : 11€\n",
      "oeuf, emmental, tomate, jambon, olives\n",
      "\n",
      "PIZZA 4 fromages : 8.5€ - VÉGÉTARIENNE\n",
      "brie, emmental, compté, parmesan\n",
      "\n",
      "PIZZA Végétarienne : 7.8€ - VÉGÉTARIENNE\n",
      "champignons, tomate, oignons, poivrons\n",
      "\n",
      "PIZZA Hawai : 9.5€\n",
      "tomate, ananas, oignons\n",
      "\n"
     ]
    }
   ],
   "source": [
    "# nom, prix, ingrédients, végétarienne\n",
    "\n",
    "\n",
    "class Pizza:\n",
    "    def __init__(self, nom, prix, ingredients, vegetarienne=False):\n",
    "        self.nom = nom\n",
    "        self.prix = prix\n",
    "        self.ingredients = ingredients\n",
    "        self.vegetarienne = vegetarienne\n",
    "\n",
    "    def Afficher(self):\n",
    "        veg_str = \"\"\n",
    "        if self.vegetarienne:\n",
    "            veg_str = \" - VÉGÉTARIENNE\"\n",
    "        print(f\"PIZZA {self.nom} : {self.prix}€\" + veg_str)\n",
    "        print(\", \".join(self.ingredients))\n",
    "        print()\n",
    "\n",
    "\n",
    "class PizzaPersonnalisee(Pizza): # héritage du constructeur Pizza\n",
    "    PRIX_DE_BASE = 7\n",
    "    PRIX_PAR_INGREDIENT = 1.2\n",
    "    dernier_numero = 0\n",
    "\n",
    "    def __init__(self):\n",
    "        PizzaPersonnalisee.dernier_numero += 1\n",
    "        self.numero = PizzaPersonnalisee.dernier_numero\n",
    "        super().__init__(\"Personnalisée \" + str(self.numero), 0, []) # Appel du constructeur Pizza \n",
    "        self.demander_ingredients_utilisateur()\n",
    "        self.calculer_le_prix()\n",
    "\n",
    "    def demander_ingredients_utilisateur(self):\n",
    "        print()\n",
    "        print(f\"Ingredients pour la pizza personnalisée {self.numero}\")\n",
    "        while True:\n",
    "            ingredient = input(\"Ajoutez un ingrédient (ou ENTER pour terminer) : \")\n",
    "            if ingredient == \"\":\n",
    "                return\n",
    "            self.ingredients.append(ingredient)\n",
    "            print(f\"Vous avez {len(self.ingredients)} ingrédient(s) : {', '.join(self.ingredients)}\")\n",
    "\n",
    "    def calculer_le_prix(self):\n",
    "        self.prix = self.PRIX_DE_BASE + len(self.ingredients)*self.PRIX_PAR_INGREDIENT\n",
    "\n",
    "\n",
    "pizzas = [\n",
    "    Pizza(\"4 fromages\", 8.5, (\"brie\", \"emmental\", \"compté\", \"parmesan\"), True),\n",
    "    Pizza(\"Hawai\", 9.5, (\"tomate\", \"ananas\", \"oignons\")),\n",
    "    Pizza(\"4 saisons\", 11, (\"oeuf\", \"emmental\", \"tomate\", \"jambon\", \"olives\")),\n",
    "    Pizza(\"Végétarienne\", 7.8, (\"champignons\", \"tomate\", \"oignons\", \"poivrons\"), True),\n",
    "    # PizzaPersonnalisee(),\n",
    "    # PizzaPersonnalisee()\n",
    "]\n",
    "\n",
    "\n",
    "def tri(e):\n",
    "    return len(e.ingredients)\n",
    "\n",
    "\n",
    "pizzas.sort(key=tri, reverse=True)\n",
    "\n",
    "for i in pizzas:\n",
    "    i.Afficher()\n"
   ]
  },
  {
   "cell_type": "code",
   "execution_count": null,
   "id": "de0896dd",
   "metadata": {},
   "outputs": [],
   "source": []
  },
  {
   "cell_type": "code",
   "execution_count": null,
   "id": "840cff1d",
   "metadata": {},
   "outputs": [],
   "source": [
    "# PROJET QUESTIONNAIRE V3 : POO\n",
    "#\n",
    "# - Pratiquer sur la POO\n",
    "# - Travailler sur du code existant\n",
    "# - Mener un raisonnement\n",
    "#\n",
    "# -> Définir les entitées (données, actions)\n",
    "#\n",
    "# Question\n",
    "#    - titre       - str\n",
    "#    - choix       - (str)\n",
    "#    - bonne_reponse   - str\n",
    "#\n",
    "#    - poser()  -> bool\n",
    "#\n",
    "# Questionnaire\n",
    "#    - questions      - (Question)\n",
    "#\n",
    "#    - lancer()\n",
    "#\n",
    "\n",
    "class Question:\n",
    "    def __init__(self, titre, choix, bonne_reponse):\n",
    "        self.titre = titre\n",
    "        self.choix = choix\n",
    "        self.bonne_reponse = bonne_reponse\n",
    "\n",
    "    def FromData(data):\n",
    "        # ....\n",
    "        q = Question(data[2], data[0], data[1])\n",
    "        return q\n",
    "\n",
    "    def poser(self):\n",
    "        print(\"QUESTION\")\n",
    "        print(\"  \" + self.titre)\n",
    "        for i in range(len(self.choix)):\n",
    "            print(\"  \", i+1, \"-\", self.choix[i])\n",
    "\n",
    "        print()\n",
    "        resultat_response_correcte = False\n",
    "        reponse_int = Question.demander_reponse_numerique_utlisateur(1, len(self.choix))\n",
    "        if self.choix[reponse_int-1].lower() == self.bonne_reponse.lower():\n",
    "            print(\"Bonne réponse\")\n",
    "            resultat_response_correcte = True\n",
    "        else:\n",
    "            print(\"Mauvaise réponse\")\n",
    "            \n",
    "        print()\n",
    "        return resultat_response_correcte\n",
    "\n",
    "    def demander_reponse_numerique_utlisateur(min, max):\n",
    "        reponse_str = input(\"Votre réponse (entre \" + str(min) + \" et \" + str(max) + \") :\")\n",
    "        try:\n",
    "            reponse_int = int(reponse_str)\n",
    "            if min <= reponse_int <= max:\n",
    "                return reponse_int\n",
    "\n",
    "            print(\"ERREUR : Vous devez rentrer un nombre entre\", min, \"et\", max)\n",
    "        except:\n",
    "            print(\"ERREUR : Veuillez rentrer uniquement des chiffres\")\n",
    "        return demander_reponse_numerique_utlisateur(min, max)\n",
    "    \n",
    "class Questionnaire:\n",
    "    def __init__(self, questions):\n",
    "        self.questions = questions\n",
    "\n",
    "    def lancer(self):\n",
    "        score = 0\n",
    "        for question in self.questions:\n",
    "            if question.poser():\n",
    "                score += 1\n",
    "        print(\"Score final :\", score, \"sur\", len(self.questions))\n",
    "        return score\n",
    "\n",
    "\n",
    "\"\"\"questionnaire = (\n",
    "    (\"Quelle est la capitale de la France ?\", (\"Marseille\", \"Nice\", \"Paris\", \"Nantes\", \"Lille\"), \"Paris\"), \n",
    "    (\"Quelle est la capitale de l'Italie ?\", (\"Rome\", \"Venise\", \"Pise\", \"Florence\"), \"Rome\"),\n",
    "    (\"Quelle est la capitale de la Belgique ?\", (\"Anvers\", \"Bruxelles\", \"Bruges\", \"Liège\"), \"Bruxelles\")\n",
    "                )\n",
    "\n",
    "lancer_questionnaire(questionnaire)\"\"\"\n",
    "\n",
    "# q1 = Question(\"Quelle est la capitale de la France ?\", (\"Marseille\", \"Nice\", \"Paris\", \"Nantes\", \"Lille\"), \"Paris\")\n",
    "# q1.poser()\n",
    "\n",
    "# data = ((\"Marseille\", \"Nice\", \"Paris\", \"Nantes\", \"Lille\"), \"Paris\", \"Quelle est la capitale de la France ?\")\n",
    "# q = Question.FromData(data)\n",
    "# print(q.__dict__)\n",
    "\n",
    "Questionnaire(\n",
    "    (\n",
    "    Question(\"Quelle est la capitale de la France ?\", (\"Marseille\", \"Nice\", \"Paris\", \"Nantes\", \"Lille\"), \"Paris\"), \n",
    "    Question(\"Quelle est la capitale de l'Italie ?\", (\"Rome\", \"Venise\", \"Pise\", \"Florence\"), \"Rome\"),\n",
    "    Question(\"Quelle est la capitale de la Belgique ?\", (\"Anvers\", \"Bruxelles\", \"Bruges\", \"Liège\"), \"Bruxelles\")\n",
    "    )\n",
    ").lancer()"
   ]
  },
  {
   "cell_type": "code",
   "execution_count": null,
   "id": "7994461b",
   "metadata": {},
   "outputs": [],
   "source": [
    "# IsInstance : Vérifier les types\n",
    "\n",
    "class Personne:\n",
    "    def __init__(self, nom: str, age: int):\n",
    "        self.nom = nom\n",
    "        self.age = age\n",
    "\n",
    "        if not isinstance(age, int):\n",
    "            print(\"L'age doit être de type int\")\n",
    "            self.age = 0\n",
    "\n",
    "    def AfficherInfos(self):\n",
    "        print(f\"Je m'appelle {self.nom}\")\n",
    "        if self.age > 0:\n",
    "            print(f\"L'an prochain j'aurai {self.age+1} ans\")\n",
    "\n",
    "\n",
    "personne = Personne(\"Jean\", 20)\n",
    "personne.AfficherInfos()"
   ]
  },
  {
   "cell_type": "code",
   "execution_count": null,
   "id": "2967d4f3",
   "metadata": {},
   "outputs": [],
   "source": [
    "# POLYMORPHISME\n",
    "# Plusieurs types -> la même interface (meme code)\n",
    "\n",
    "class EtreVivant:\n",
    "    def afficher_infos(self):\n",
    "        print(\"Je suis un être vivant\")\n",
    "\n",
    "class Chat(EtreVivant):\n",
    "    def afficher_infos(self):\n",
    "        print(\"Je suis un chat\")\n",
    "\n",
    "class Personne(EtreVivant):\n",
    "    def afficher_infos(self): \n",
    "        print(\"Je suis une personne\")\n",
    "\n",
    "\n",
    "l = [EtreVivant(), Chat(), Personne()]\n",
    "\n",
    "for e in l:\n",
    "    e.afficher_infos()\n",
    "\n",
    "# ---------------------------------\n",
    "\n",
    "def additionner(a, b):\n",
    "    somme = 0\n",
    "    if isinstance(a, int):\n",
    "        somme += a\n",
    "    if isinstance(a, str):\n",
    "        somme += len(a)\n",
    "    if isinstance(b, int):\n",
    "        somme += b\n",
    "    if isinstance(b, str):\n",
    "        somme += len(b)\n",
    "    return somme\n",
    "\n",
    "print(additionner(5, \"aaaa\"))"
   ]
  },
  {
   "cell_type": "code",
   "execution_count": null,
   "id": "ad126d52",
   "metadata": {},
   "outputs": [],
   "source": [
    "# HERITAGE MULTIPLE : MULTIPLE-INHERITANCE\n",
    "\n",
    "class EtreVivant:\n",
    "    def afficher_infos(self):\n",
    "        print(\"Je suis un être vivant\")\n",
    "\n",
    "class Predateur():\n",
    "    def chasser_et_manger_proie(self):\n",
    "        print(\"miam miam\")\n",
    "\n",
    "class Lion(EtreVivant, Predateur):\n",
    "    def afficher_infos(self):\n",
    "        print(\"Je suis un lion\")\n",
    "\n",
    "class Personne(EtreVivant):\n",
    "    def afficher_infos(self):\n",
    "        print(\"Je suis une personne\")\n",
    "\n",
    "lion = Lion()\n",
    "lion.afficher_infos()\n",
    "lion.chasser_et_manger_proie()\n"
   ]
  },
  {
   "cell_type": "code",
   "execution_count": null,
   "id": "f033b6a8",
   "metadata": {},
   "outputs": [
    {
     "name": "stdout",
     "output_type": "stream",
     "text": [
      "Je m'appelle Jean, j'ai 20 ans\n",
      "Je m'appelle Jean, j'ai 20 ans\n",
      "True\n",
      "False\n",
      "True\n"
     ]
    }
   ],
   "source": [
    "# Comparer des objets\n",
    "# is / ==\n",
    "\n",
    "class Personne:\n",
    "    def __init__(self, nom, age):\n",
    "        self.nom = nom\n",
    "        self.age = age\n",
    "\n",
    "    def AfficherInfos(self):\n",
    "        print(f\"Je m'appelle {self.nom}, j'ai {self.age} ans\")\n",
    "\n",
    "    def __eq__(self, other):\n",
    "        return self.nom == other.nom and self.age == other.age\n",
    "\n",
    "\n",
    "personne1 = Personne(\"Jean\", 20)\n",
    "personne1.AfficherInfos()\n",
    "\n",
    "personne2 = Personne(\"Jean\", 20)\n",
    "personne2.AfficherInfos()\n",
    "\n",
    "# print(personne1 == personne2)\n",
    "# print(personne1 is personne2)\n",
    "\n",
    "print(personne1.__dict__ == personne2.__dict__)"
   ]
  },
  {
   "cell_type": "code",
   "execution_count": null,
   "id": "776b5633",
   "metadata": {},
   "outputs": [],
   "source": [
    "import copy\n",
    "# COPIER DES OBJETS\n",
    "# shallow copy / deep copy\n",
    "\n",
    "class Personne:\n",
    "    def __init__(self, nom, age, amis):\n",
    "        self.nom = nom\n",
    "        self.age = age\n",
    "        self.amis = amis\n",
    "\n",
    "    def AfficherInfos(self):\n",
    "        print(f\"Je m'appelle {self.nom}, j'ai {self.age} ans\")\n",
    "        print(\"Amis : \" + str(self.amis))\n",
    "\n",
    "    def __eq__(self, other):\n",
    "        return self.nom == other.nom and self.age == other.age\n",
    "\n",
    "\n",
    "personne1 = Personne(\"Jean\", 20, [\"Claire\", \"Marc\", \"Emilie\"])\n",
    "personne1.AfficherInfos()\n",
    "\n",
    "# personne2 = copy.copy(personne1)\n",
    "personne2 = copy.deepcopy(personne1)\n",
    "# personne1.nom = \"Toto\"\n",
    "personne1.amis[0] = \"Chantale\"\n",
    "personne2.AfficherInfos()\n",
    "\n",
    "print(personne1 == personne2)\n",
    "print(personne1 is personne2)\n",
    "\n",
    "print(personne1.__dict__ == personne2.__dict__)"
   ]
  },
  {
   "cell_type": "code",
   "execution_count": null,
   "id": "92539604",
   "metadata": {},
   "outputs": [],
   "source": [
    "# __str__ et __repr__\n",
    "\n",
    "class Personne:\n",
    "    def __init__(self, nom, age):\n",
    "        self.nom = nom\n",
    "        self.age = age\n",
    "\n",
    "    def AfficherInfos(self):\n",
    "        print(f\"Je m'appelle {self.nom}, j'ai {self.age} ans\")\n",
    "\n",
    "    # représentation chaine\n",
    "    # def __str__(self):\n",
    "    #    return \"STR\"\n",
    "\n",
    "    # dev\n",
    "    def __repr__(self):\n",
    "        return __class__.__name__ + \" \" + str(self.__dict__)\n",
    "\n",
    "personne1 = Personne(\"Jean\", 20)\n",
    "personne1.AfficherInfos()\n",
    "\n",
    "print(personne1)"
   ]
  },
  {
   "cell_type": "code",
   "execution_count": null,
   "id": "3b1e2215",
   "metadata": {},
   "outputs": [],
   "source": [
    "# Méthodes d’instance, de classe et statiques\n",
    "\n",
    "class Personne:\n",
    "    TYPE = \"Humain\"\n",
    "    def __init__(self, nom):\n",
    "        self.nom = nom\n",
    "\n",
    "    # Méthode d'instance\n",
    "    def se_presenter(self):\n",
    "        print(f\"Je m'appelle {self.formater_chaine(self.nom)} - \" + self.TYPE)\n",
    "\n",
    "    # premier charactère en majuscule puis minuscules\n",
    "    # méthode statique (ne dépend pas du self)\n",
    "    @staticmethod\n",
    "    def formater_chaine(a):\n",
    "        return a[0].upper() + a[1:].lower()\n",
    "\n",
    "    @classmethod\n",
    "    def methode_de_classe(cls):\n",
    "        print(\"Méthode de classe : \" + cls.TYPE)\n",
    "\n",
    "\n",
    "personne1 = Personne(\"jean\") # création d'instance\n",
    "personne1.se_presenter()\n",
    "\n",
    "print(Personne.formater_chaine(\"toTo\"))\n",
    "\n",
    "Personne.methode_de_classe()"
   ]
  },
  {
   "cell_type": "code",
   "execution_count": null,
   "id": "da6eeb93",
   "metadata": {},
   "outputs": [],
   "source": [
    "# Modificateurs d’accès : Public, private, protected\n",
    "\n",
    "# public : accès depuis l'intérieur et l'extérieur de la classe\n",
    "# private : accès depuis l'intérieur de la classe uniquement (__a)\n",
    "# protected : accès depuis l'intérieur de la classe et des classes dérivées (_a)\n",
    "\n",
    "class Personne:\n",
    "    def __init__(self, nom):\n",
    "        # private\n",
    "        self._nom = nom\n",
    "\n",
    "    def se_presenter(self):\n",
    "        print(f\"Je m'appelle {self._nom}\")\n",
    "\n",
    "\n",
    "class Etudiant(Personne):\n",
    "    def se_presenter(self):\n",
    "        print(f\"Je suis étudiant, je m'appelle {self._nom}\")\n",
    "\n",
    "personne1 = Etudiant(\"Jean\")\n",
    "personne1.se_presenter()\n",
    "\n",
    "print(personne1.__dict__)"
   ]
  },
  {
   "cell_type": "markdown",
   "id": "d816f74a",
   "metadata": {},
   "source": [
    "## **Coding Games**"
   ]
  },
  {
   "cell_type": "code",
   "execution_count": null,
   "id": "b37a1e1c",
   "metadata": {},
   "outputs": [],
   "source": [
    "import sys\n",
    "# game loop\n",
    "while 1:\n",
    "    enemy_1 = input()  # name of enemy 1\n",
    "    dist_1 = int(input())  # distance to enemy 1\n",
    "    enemy_2 = input()  # name of enemy 2\n",
    "    dist_2 = int(input())  # distance to enemy 2\n",
    "\n",
    "    # Write an action using print\n",
    "\n",
    "    print(str(dist_1),file=sys.stderr,  flush=True)\n",
    "    print(str(dist_2),file=sys.stderr, flush=True)\n",
    "\n",
    "    # Enter the code here\n",
    "\n",
    "    if dist_1 < dist_2:\n",
    "        print(enemy_1)\n",
    "    else:\n",
    "        print(enemy_2)"
   ]
  },
  {
   "cell_type": "code",
   "execution_count": null,
   "id": "74d667d2",
   "metadata": {},
   "outputs": [],
   "source": [
    "import sys\n",
    "import math\n",
    "\n",
    "# The while loop represents the game.\n",
    "# Each iteration represents a turn of the game\n",
    "# where you are given inputs (the heights of the mountains)\n",
    "# and where you have to print an output (the index of the mountain to fire on)\n",
    "# The inputs you are given are automatically updated according to your last actions.\n",
    "\n",
    "hauteur_montages = [2, 6, 7, 9, 5, 4, 3, 2]\n",
    "\n",
    "# game loop\n",
    "while True:\n",
    "    max = -1\n",
    "    imax = -1\n",
    "    for i in range(8):\n",
    "        mountain_h = hauteur_montages[i]\n",
    "        if mountain_h > max:\n",
    "            max = mountain_h\n",
    "            imax = i\n",
    "        print(\"H=\", mountain_h, file=sys.stderr, flush=True)\n",
    "\n",
    "    # Write an action using print\n",
    "    # To debug: print(\"Debug messages...\", file=sys.stderr, flush=True)\n",
    "\n",
    "    # The index of the mountain to fire on.\n",
    "    print(imax)\n"
   ]
  },
  {
   "cell_type": "code",
   "execution_count": 1,
   "id": "60086290",
   "metadata": {},
   "outputs": [
    {
     "name": "stdout",
     "output_type": "stream",
     "text": [
      "otot ruojnoB\n"
     ]
    }
   ],
   "source": [
    "# Inverser une chaine (Reverse)\n",
    "#\n",
    "# \"Bonjour toto\"\n",
    "# \"otot ruojnoB\"\n",
    "#\n",
    "# Boucle\n",
    "# Slice\n",
    "\n",
    "def reverse_string1(str):\n",
    "    r = \"\"\n",
    "    for c in str:\n",
    "        r = c + r\n",
    "    return r\n",
    "\n",
    "def reverse_string2(str):\n",
    "    return s[::-1]\n",
    "\n",
    "\n",
    "s = \"Bonjour toto\"\n",
    "# print(reverse_string1(s))\n",
    "\n",
    "print(reverse_string2(s))\n"
   ]
  },
  {
   "cell_type": "code",
   "execution_count": 3,
   "id": "53549bf6",
   "metadata": {},
   "outputs": [
    {
     "name": "stdout",
     "output_type": "stream",
     "text": [
      "Mot le plus petit: Un\n",
      "Mot le plus long: chasser\n"
     ]
    }
   ],
   "source": [
    "# Trouver le mot le plus court et le plus long dans une phrase\n",
    "# le premier par ordre alphabetique \n",
    "\n",
    "# ordre dans la phrase en premier\n",
    "def get_min_and_max_words(sentense):\n",
    "    words = sentense.split(\" \")\n",
    "    min_word = min(words, key=len)\n",
    "    max_word = max(words, key=len)\n",
    "    # print(words)\n",
    "    return min_word, max_word\n",
    "\n",
    "# ordre alphabetique en premier\n",
    "def get_min_and_max_words_sorted(sentense):\n",
    "    words = sentense.split(\" \")\n",
    "    min_word, max_word = get_min_and_max_words(sentense)\n",
    "\n",
    "    all_min_words = [w for w in words if len(w) == len(min_word)]\n",
    "    all_max_words = [w for w in words if len(w) == len(max_word)]\n",
    "\n",
    "    all_min_words.sort()\n",
    "    all_max_words.sort()\n",
    "    # ...\n",
    "    return all_min_words[0], all_max_words[0]\n",
    "\n",
    "def get_min_and_max_words_sorted2(sentense):\n",
    "    words = sentense.split(\" \")\n",
    "    words.sort()\n",
    "    min_word = min(words, key=len)\n",
    "    max_word = max(words, key=len)\n",
    "    # print(words)\n",
    "    return min_word, max_word\n",
    "\n",
    "s = \"Un aa sachant chasser sait chasser sans son chien\"\n",
    "\n",
    "min_word, max_word = get_min_and_max_words_sorted2(s)\n",
    "\n",
    "print(\"Mot le plus petit:\", min_word)\n",
    "print(\"Mot le plus long:\", max_word)\n",
    "\n",
    "# split(\" \")\n",
    "# min max\n",
    "\n",
    "# print(min([\"aa\", \"aaaaaa\", \"zzz\"], key=len))"
   ]
  },
  {
   "cell_type": "code",
   "execution_count": 10,
   "id": "5c840320",
   "metadata": {},
   "outputs": [
    {
     "name": "stdout",
     "output_type": "stream",
     "text": [
      "UNSORTED: [-633, 720, -354, 744, 662, 408, -464, -433, -808, -363, -219, -777, 563, -823, 858, 199, 224, 844, 483, 385, 557, -564, 850, -84, -678, -242, 759, -85, -916, -222, -151, -938, -703, 235, 714, 157, -634, 83, 688, -538, -217, -829, 291, -103, 988, 441, 270, -429, 109, -514, -981, 473, 505, 899, 743, -185, -104, 371, 34, 829, 550, 559, 789, 870, -36, -425, -114, -107, -954, 64, 522, 862, -948, -318, -875, -528, -400, 554, 879, 524, 372, -725, 414, 89, -186, 820, -30, 484, 755, 611, 264, 311, 879, -472, 273, 977, -780, -944, 490, 208]\n",
      "SORTED:   [-981, -954, -948, -944, -938, -916, -875, -829, -823, -808, -780, -777, -725, -703, -678, -634, -633, -564, -538, -528, -514, -472, -464, -433, -429, -425, -400, -363, -354, -318, -242, -222, -219, -217, -186, -185, -151, -114, -107, -104, -103, -85, -84, -36, -30, 34, 64, 83, 89, 109, 157, 199, 208, 224, 235, 264, 270, 273, 291, 311, 371, 372, 385, 408, 414, 441, 473, 483, 484, 490, 505, 522, 524, 550, 554, 557, 559, 563, 611, 662, 688, 714, 720, 743, 744, 755, 759, 789, 820, 829, 844, 850, 858, 862, 870, 879, 879, 899, 977, 988]\n"
     ]
    }
   ],
   "source": [
    "import random\n",
    "# tri par sélection\n",
    "\n",
    "# l = [5, 8, 1, 4]\n",
    "\n",
    "#  V\n",
    "# [1, 5, 8, 10, 2]\n",
    "# sorted / unsorted\n",
    "\n",
    "#     V\n",
    "# [1, 2, 5, 8, 10]\n",
    "\n",
    "#           V\n",
    "# [1, 2, 5, 8, 10]\n",
    "\n",
    "# O(N^2)\n",
    "\n",
    "# print(\"UNSORTED:\", l)\n",
    "\n",
    "# generate_random_list(n, min, max)  3, 0, 10  [7, 10, 5]\n",
    "# selection_sort(l)\n",
    "\n",
    "def generate_random_list(n, min, max):\n",
    "    l = []\n",
    "    for i in range(n):\n",
    "        e = random.randint(min, max)\n",
    "        l.append(e)\n",
    "    return l\n",
    "\n",
    "def selection_sort(l):\n",
    "    for unsorted_index in range(0, len(l)-1):\n",
    "        min = l[unsorted_index]\n",
    "        min_index = unsorted_index\n",
    "        for i in range(unsorted_index+1, len(l)):\n",
    "            if l[i] < min:\n",
    "                min = l[i]\n",
    "                min_index = i          #   V            m\n",
    "        l[min_index] = l[unsorted_index]   #  [5, 8, 10, 2, 5]\n",
    "        l[unsorted_index] = min            #  [1, 8, 10, 2, 5]\n",
    "\n",
    "l = generate_random_list(100, -1000, 1000)\n",
    "print(\"UNSORTED:\", l)\n",
    "\n",
    "selection_sort(l)\n",
    "\n",
    "print(\"SORTED:  \", l)\n",
    "\n"
   ]
  },
  {
   "cell_type": "code",
   "execution_count": 1,
   "id": "72aa447a",
   "metadata": {},
   "outputs": [],
   "source": [
    "import random\n",
    "import tkinter as tk\n",
    "\n",
    "# Définir le nombre de vies et le nombre maximal comme des constantes\n",
    "NOMBRE_DE_VIES = 3\n",
    "NOMBRE_MAXIMAL = 20\n",
    "\n",
    "class JeuNombreMagique:\n",
    "    def __init__(self, root):\n",
    "        self.root = root\n",
    "        self.root.title(\"Jeu du Nombre Magique\")\n",
    "\n",
    "        self.initialiser_jeu()\n",
    "\n",
    "    def initialiser_jeu(self):\n",
    "        # Réinitialiser les variables\n",
    "        self.nombre_magique = random.randint(1, NOMBRE_MAXIMAL)\n",
    "        self.vies = NOMBRE_DE_VIES\n",
    "\n",
    "        # Effacer les widgets existants\n",
    "        for widget in self.root.winfo_children():\n",
    "            widget.destroy()\n",
    "\n",
    "        # Interface utilisateur\n",
    "        self.label = tk.Label(self.root, text=\"Bienvenue dans le jeu du Nombre Magique !\\nDevinez le nombre entre 1 et {}.\".format(NOMBRE_MAXIMAL))\n",
    "        self.label.pack(pady=10)\n",
    "\n",
    "        self.message = tk.Label(self.root, text=\"Il vous reste {} vies.\".format(self.vies))\n",
    "        self.message.pack(pady=5)\n",
    "\n",
    "        self.buttons_frame = tk.Frame(self.root)\n",
    "        self.buttons_frame.pack(pady=5)\n",
    "\n",
    "        # Créer des boutons pour chaque nombre possible, sur plusieurs lignes\n",
    "        for i in range(1, NOMBRE_MAXIMAL + 1):\n",
    "            bouton = tk.Button(self.buttons_frame, text=str(i), command=lambda i=i: self.verifier_supposition(i))\n",
    "            bouton.grid(row=(i-1)//5, column=(i-1)%5, padx=5, pady=5)\n",
    "\n",
    "        self.restart_button = None\n",
    "\n",
    "    def verifier_supposition(self, guess):\n",
    "        # Désactiver le bouton cliqué\n",
    "        for widget in self.buttons_frame.winfo_children():\n",
    "            if widget.cget(\"text\") == str(guess):\n",
    "                widget.config(state=tk.DISABLED)\n",
    "\n",
    "        if guess == self.nombre_magique:\n",
    "            self.message.config(text=\"Félicitations! Vous avez deviné le nombre magique.\", fg=\"green\")\n",
    "            for widget in self.buttons_frame.winfo_children():\n",
    "                widget.config(state=tk.DISABLED)\n",
    "            self.afficher_bouton_relancer()\n",
    "        else:\n",
    "            self.vies -= 1\n",
    "            if self.vies > 0:\n",
    "                if guess < self.nombre_magique:\n",
    "                    self.message.config(text=\"Trop bas! Essayez un nombre plus grand. Il vous reste {} vies.\".format(self.vies), fg=\"orange\")\n",
    "                else:\n",
    "                    self.message.config(text=\"Trop haut! Essayez un nombre plus petit. Il vous reste {} vies.\".format(self.vies), fg=\"orange\")\n",
    "            else:\n",
    "                self.message.config(text=\"Désolé, vous n'avez plus de vies. Le nombre magique était {}.\".format(self.nombre_magique), fg=\"red\")\n",
    "                for widget in self.buttons_frame.winfo_children():\n",
    "                    widget.config(state=tk.DISABLED)\n",
    "                self.afficher_bouton_relancer()\n",
    "\n",
    "    def afficher_bouton_relancer(self):\n",
    "        self.restart_button = tk.Button(self.root, text=\"Relancer le jeu\", command=self.initialiser_jeu)\n",
    "        self.restart_button.pack(pady=10)\n",
    "\n",
    "# Créer l'application Tkinter\n",
    "if __name__ == \"__main__\":\n",
    "    root = tk.Tk()\n",
    "    jeu = JeuNombreMagique(root)\n",
    "    root.mainloop()"
   ]
  },
  {
   "cell_type": "code",
   "execution_count": null,
   "id": "f3c539ac",
   "metadata": {},
   "outputs": [],
   "source": [
    "from openai import OpenAI\n",
    "\n",
    "OPENAI_KEY = \"votre-clef-d'api-OpenAI\"\n",
    "\n",
    "client = OpenAI(api_key=OPENAI_KEY)\n",
    "\n",
    "def getCompletion(prompt, system_prompt = \"\"):\n",
    "\n",
    "    messages = []\n",
    "    if system_prompt != \"\":\n",
    "        messages.append({\"role\": \"system\", \"content\": system_prompt})\n",
    "\n",
    "    messages.append({\"role\": \"user\", \"content\": prompt})\n",
    "\n",
    "    try:\n",
    "        completion = client.chat.completions.create(\n",
    "            model=\"gpt-4o\",\n",
    "            messages=messages\n",
    "        )\n",
    "\n",
    "        text = completion.choices[0].message.content\n",
    "        return text\n",
    "    except Exception as e:\n",
    "        print(\"OpenAi Exception : \" + str(e))\n",
    "\n",
    "    return None\n",
    "\n",
    "\n",
    "print(getCompletion(\"Bonjour\"))"
   ]
  },
  {
   "cell_type": "code",
   "execution_count": 1,
   "id": "9f40f816",
   "metadata": {},
   "outputs": [
    {
     "name": "stdout",
     "output_type": "stream",
     "text": [
      "{'Jean': (20, 'Développeur'), 'Paul': (30, 'Ingénieur'), 'Emilie': (30, 'Professeur'), 'Marc': (25, 'Footballer')}\n"
     ]
    }
   ],
   "source": [
    "# UNION DE DICTIONNAIRES\n",
    "\n",
    "dict1 = {\"Jean\" : (20, \"Développeur\"), \"Paul\" : (30, \"Ingénieur\")}\n",
    "dict2 = {\"Emilie\" : (30, \"Professeur\"), \"Marc\" : (25, \"Footballer\")}\n",
    "\n",
    "# repertoire_complet =  dict2 | dict1\n",
    "\n",
    "# dict1.update(dict2)\n",
    "\n",
    "dict1 |= dict2  # dict1 = dict1 | dict2\n",
    "\n",
    "print(dict1)"
   ]
  },
  {
   "cell_type": "code",
   "execution_count": null,
   "id": "e38c4f6f",
   "metadata": {},
   "outputs": [
    {
     "name": "stdout",
     "output_type": "stream",
     "text": [
      "22.040816326530614\n",
      "{'poids': typing.Annotated[float, 'kg'], 'taille': typing.Annotated[float, 'mètres'], 'return': <class 'float'>}\n"
     ]
    }
   ],
   "source": [
    "# ANNOTATIONS\n",
    "# types de parametres / code de retour de fonctions\n",
    "# informations libres\n",
    "from typing import Annotated\n",
    "\n",
    "def imc(poids: Annotated[float, \"kg\"], taille: Annotated[float, \"mètres\"]) -> float:\n",
    "    return poids / (taille * taille)\n",
    "\n",
    "print(imc(67.5, 1.75))\n",
    "print(imc.__annotations__)"
   ]
  },
  {
   "cell_type": "code",
   "execution_count": null,
   "id": "5929d9cc",
   "metadata": {},
   "outputs": [],
   "source": [
    "# SUPPRIMER PRÉFIXE ET SUFFIXE D'UNE CHAINE\n",
    "\n",
    "phrase = \"emilie a mangé un gateau\"\n",
    "\n",
    "# print(phrase.strip(\"gateau\"))\n",
    "\n",
    "# removeprefix / removesuffix\n",
    "print(phrase.removesuffix(\" gateau\"))\n",
    "print(phrase.removeprefix(\"emilie \"))\n",
    "print(\"Paul \" + phrase.removeprefix(\"emilie \").removesuffix(\" gateau\") + \" flan\")"
   ]
  },
  {
   "cell_type": "code",
   "execution_count": 3,
   "id": "f923a46e",
   "metadata": {},
   "outputs": [
    {
     "name": "stdout",
     "output_type": "stream",
     "text": [
      "Paul, 30 ans, Ingénieur informatique\n",
      "Marc, 20 ans\n",
      "Jean, 17 ans, étudiant\n",
      "Format non supporté\n",
      "Emilie, 16 ans (mineur)\n"
     ]
    }
   ],
   "source": [
    "# CORRESPONDANCE STRUCTURELLE\n",
    "# (Structural pattern matching)\n",
    "\n",
    "# switch case -> match case\n",
    "\n",
    "\"\"\"\n",
    "while True:\n",
    "    phrase = input(\"Parlez moi : \")\n",
    "    if phrase == \"bonjour\" or phrase == \"hello\" or phrase == \"salut\":\n",
    "        print(\"Bonjour, comment allez-vous ?\")\n",
    "    elif phrase == \"bien\":\n",
    "        print(\"Je vais bien aussi\")\n",
    "    elif phrase == \"bye\":\n",
    "        print(\"Au revoir\")\n",
    "        break \n",
    "    else:\n",
    "        print(\"Je n'ai pas compris\")\n",
    "\"\"\"\n",
    "# wildcard _\n",
    "\"\"\"\n",
    "while True:\n",
    "    phrase = input(\"Parlez moi : \")\n",
    "    match phrase:\n",
    "        case \"bonjour\" | \"hello\" | \"salut\":\n",
    "            print(\"Bonjour, comment allez-vous ?\")\n",
    "        case \"bien\":\n",
    "            print(\"Je vais bien aussi\")\n",
    "        case \"bye\":\n",
    "            print(\"Au revoir\")\n",
    "            break \n",
    "        case _:\n",
    "            print(\"Je n'ai pas compris\")\n",
    "\"\"\"\n",
    "\n",
    "personne1 = {\"nom\": \"Paul\", \"infos\": (30, \"Ingénieur informatique\")}\n",
    "personne2 = {\"nom\": \"Marc\", \"age\": 20}\n",
    "personne3 = {\"nom\": \"Jean\", \"age\": 17, \"metier\": \"étudiant\"}\n",
    "personne4 = {\"nom\": \"Pierre\"}\n",
    "personne5 = {\"nom\": \"Emilie\", \"age\": 16}\n",
    "\n",
    "personnes = (personne1, personne2, personne3, personne4, personne5)\n",
    "\n",
    "for personne in personnes:\n",
    "    match personne:\n",
    "        case {\"nom\": nom, \"age\": age, \"metier\": metier}:\n",
    "            print(f\"{nom}, {age} ans, {metier}\")\n",
    "        case {\"nom\": nom, \"infos\": (age, metier)}:\n",
    "            print(f\"{nom}, {age} ans, {metier}\")\n",
    "        case {\"nom\": nom, \"age\": age} if age >= 18:\n",
    "            print(f\"{nom}, {age} ans\")\n",
    "        case {\"nom\": nom, \"age\": age}:\n",
    "            print(f\"{nom}, {age} ans (mineur)\")\n",
    "        case _:\n",
    "            print(\"Format non supporté\")"
   ]
  },
  {
   "cell_type": "code",
   "execution_count": 7,
   "id": "4c77dabb",
   "metadata": {},
   "outputs": [
    {
     "name": "stdout",
     "output_type": "stream",
     "text": [
      "30.25\n"
     ]
    }
   ],
   "source": [
    "# UNION DE TYPES\n",
    "\n",
    "def operation_speciale(a : int | float):\n",
    "    if isinstance(a, int | float):\n",
    "        return a * a\n",
    "    print(\"Mauvais type\")\n",
    "    return None\n",
    "\n",
    "print(operation_speciale(5.5))"
   ]
  },
  {
   "cell_type": "code",
   "execution_count": null,
   "id": "49346c0f",
   "metadata": {},
   "outputs": [],
   "source": [
    "# LONGUEUR DES ZIP\n",
    "\n",
    "noms = (\"Jean\", \"Emilie\", \"Paul\")\n",
    "ages = (20, 30, 25)\n",
    "\n",
    "try:\n",
    "    noms_et_ages = zip(noms, ages, strict=True)\n",
    "    print(list(noms_et_ages))\n",
    "except ValueError:\n",
    "    print(\"ERREUR : nombre d'éléments différents dans le zip\")"
   ]
  },
  {
   "cell_type": "markdown",
   "id": "b5628931",
   "metadata": {},
   "source": [
    "## **Script d'Automatisation**"
   ]
  },
  {
   "cell_type": "code",
   "execution_count": null,
   "id": "0498a6e0",
   "metadata": {},
   "outputs": [],
   "source": [
    "# FICHIERS TEXTE\n",
    "#\n",
    "# ouvrir (open) <- nom du fichier, mode\n",
    "# ecrire (write) / lire (read)\n",
    "# fermer (close)\n",
    "#\n",
    "\n",
    "f = open(\"mon_fichier.txt\", \"w\")\n",
    "\n",
    "# f.write(\"Bonjour\\n\")\n",
    "# f.write(\"Bonjour\")\n",
    "l = [\"premiere phrase\", \"deuxieme phrase\", \"troisieme\"]\n",
    "\n",
    "f.write(\"\\n\".join(l))\n",
    "\n",
    "f.write(\"\\nFin\")\n",
    "\n",
    "f.close()"
   ]
  },
  {
   "cell_type": "code",
   "execution_count": 14,
   "id": "3d697062",
   "metadata": {},
   "outputs": [],
   "source": [
    "# FICHIERS TEXTE\n",
    "\n",
    "f2 = open(\"nombres.txt\", \"w\")\n",
    "\n",
    "l2 = [str(i) for i in range(1,11)]\n",
    "\n",
    "f2.write(\"\\n\".join(l2))\n",
    "\n",
    "f2.close()"
   ]
  },
  {
   "cell_type": "code",
   "execution_count": null,
   "id": "52d7e987",
   "metadata": {},
   "outputs": [
    {
     "name": "stdout",
     "output_type": "stream",
     "text": [
      "premiere phrase\n",
      "deuxieme phrase\n",
      "troisieme\n",
      "Fin"
     ]
    }
   ],
   "source": [
    "# FICHIERS TEXTE\n",
    "#\n",
    "# ouvrir (open) <- nom du fichier, mode\n",
    "# ecrire (write) / lire (read)\n",
    "# fermer (close)\n",
    "#\n",
    "\n",
    "f = open(\"mon_fichier.txt\", \"r\")\n",
    "\n",
    "\"\"\"texte = f.readline()\n",
    "print(texte, end=\"\")\n",
    "texte = f.readlines()\n",
    "print(texte)\"\"\"\n",
    "\n",
    "# Lire le fichier ligne par ligne\n",
    "for line in f:\n",
    "    print(line, end=\"\")\n",
    "\n",
    "\n",
    "f.close()"
   ]
  },
  {
   "cell_type": "code",
   "execution_count": null,
   "id": "31e299fd",
   "metadata": {},
   "outputs": [],
   "source": [
    "# FICHIERS TEXTE\n",
    "#\n",
    "# ouvrir (open) <- nom du fichier, mode\n",
    "# ecrire (write) / lire (read)\n",
    "# fermer (close)\n",
    "#\n",
    "import os.path\n",
    "\n",
    "filename = \"mon_fichiersqssqsq.txt\"\n",
    "if os.path.exists(filename):\n",
    "    print(\"Le fichier existe\")\n",
    "    f = open(filename, \"r\")\n",
    "    texte = f.read()\n",
    "    print(texte)\n",
    "    f.close()\n",
    "else:\n",
    "    print(\"Le fichier n'existe pas\")\n",
    "\n",
    "\"\"\"\"\n",
    "try:\n",
    "    f = open(\"mon_fichierdsdssds.txt\", \"r\")\n",
    "except FileNotFoundError:\n",
    "    print(\"ERREUR : Le fichier n'a pas pu être ouvert car il n'a pas été trouvé\")\n",
    "else:\n",
    "    texte = f.read()\n",
    "    print(texte)\n",
    "    f.close()\n",
    "\"\"\""
   ]
  },
  {
   "cell_type": "code",
   "execution_count": null,
   "id": "d9ef620d",
   "metadata": {},
   "outputs": [],
   "source": [
    "import os.path\n",
    "\n",
    "# Créer un dossier si n'existe pas\n",
    "# if not os.path.exists(\"toto\"):\n",
    "#    os.mkdir(\"toto\")\n",
    "\n",
    "# Supprimer un dossier si existe\n",
    "if os.path.exists(\"toto\"):\n",
    "    os.rmdir(\"toto\")\n",
    "\n",
    "filename = os.path.join(\"rep\", \"mon_fichier.txt\")\n",
    "print(\"filename: \" + filename)\n",
    "if os.path.exists(filename):\n",
    "    print(\"Le fichier existe\")\n",
    "    f = open(filename, \"r\")\n",
    "    texte = f.read()\n",
    "    print(texte)\n",
    "    f.close()\n",
    "else:\n",
    "    print(\"Le fichier n'existe pas\")\n",
    "\n",
    "if os.path.exists(filename):\n",
    "    os.remove(filename)"
   ]
  },
  {
   "cell_type": "code",
   "execution_count": 16,
   "id": "a2297378",
   "metadata": {},
   "outputs": [
    {
     "name": "stdout",
     "output_type": "stream",
     "text": [
      "JSON: {\"nom\": \"Paul\", \"age\": 25, \"amis\": [\"Sophie\", \"Marie\", \"Jean\"]}\n"
     ]
    }
   ],
   "source": [
    "# JSON\n",
    "# Manipuler des données structurées\n",
    "import json\n",
    "\n",
    "# Personne\n",
    "#   nom : str\n",
    "#   age : int\n",
    "#   amis : [str]\n",
    "\n",
    "# Paul\n",
    "# 25\n",
    "# Sophie, Marie, Jean\n",
    "# Pierre\n",
    "# 18\n",
    "# Eric, Marc\n",
    "\n",
    "personne = {\"nom\" : \"Paul\",\n",
    "            \"age\": 25,\n",
    "            \"amis\": [\"Sophie\", \"Marie\", \"Jean\"]}\n",
    "\n",
    "# Sérialiser DATA -> TXT \"\" (json) dumps \n",
    "# Désérialiser TXT (json) -> DATA  loads\n",
    "\n",
    "personne_json = json.dumps(personne) # Chaine de caractère\n",
    "print(\"JSON: \" + personne_json)\n",
    "\n",
    "f = open(\"fichier_json.txt\", \"w\")\n",
    "f.write(personne_json)\n",
    "f.close()"
   ]
  },
  {
   "cell_type": "code",
   "execution_count": 18,
   "id": "dffc71dc",
   "metadata": {},
   "outputs": [
    {
     "name": "stdout",
     "output_type": "stream",
     "text": [
      "{'nom': 'Paul', 'age': 25, 'amis': ['Sophie', 'Marie', 'Jean']}\n"
     ]
    }
   ],
   "source": [
    "f = open(\"fichier_json.txt\", \"r\")\n",
    "donnees_json = f.read()\n",
    "f.close()\n",
    "\n",
    "personne = json.loads(donnees_json) # Dictionnaire dans ce cas\n",
    "print(personne)"
   ]
  }
 ],
 "metadata": {
  "kernelspec": {
   "display_name": "venv",
   "language": "python",
   "name": "python3"
  },
  "language_info": {
   "codemirror_mode": {
    "name": "ipython",
    "version": 3
   },
   "file_extension": ".py",
   "mimetype": "text/x-python",
   "name": "python",
   "nbconvert_exporter": "python",
   "pygments_lexer": "ipython3",
   "version": "3.13.1"
  }
 },
 "nbformat": 4,
 "nbformat_minor": 5
}
